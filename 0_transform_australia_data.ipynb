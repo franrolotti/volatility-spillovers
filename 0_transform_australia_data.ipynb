{
 "cells": [
  {
   "cell_type": "code",
   "execution_count": null,
   "id": "c017d5dc",
   "metadata": {},
   "outputs": [
    {
     "name": "stdout",
     "output_type": "stream",
     "text": [
      "                              MTU (CET/CEST) Area          Sequence  \\\n",
      "0  01/07/2009 00:00:00 - 01/07/2009 00:05:00  nsw  Without sequence   \n",
      "1  01/07/2009 00:05:00 - 01/07/2009 00:10:00  nsw  Without sequence   \n",
      "2  01/07/2009 00:10:00 - 01/07/2009 00:15:00  nsw  Without sequence   \n",
      "3  01/07/2009 00:15:00 - 01/07/2009 00:20:00  nsw  Without sequence   \n",
      "4  01/07/2009 00:20:00 - 01/07/2009 00:25:00  nsw  Without sequence   \n",
      "5  01/07/2009 00:25:00 - 01/07/2009 00:30:00  nsw  Without sequence   \n",
      "6  01/07/2009 00:30:00 - 01/07/2009 00:35:00  nsw  Without sequence   \n",
      "7  01/07/2009 00:35:00 - 01/07/2009 00:40:00  nsw  Without sequence   \n",
      "8  01/07/2009 00:40:00 - 01/07/2009 00:45:00  nsw  Without sequence   \n",
      "9  01/07/2009 00:45:00 - 01/07/2009 00:50:00  nsw  Without sequence   \n",
      "\n",
      "   Day-ahead Price (EUR/MWh)  \n",
      "0                  16.941263  \n",
      "1                  17.709524  \n",
      "2                  17.678644  \n",
      "3                  16.736212  \n",
      "4                  15.638840  \n",
      "5                  13.728767  \n",
      "6                  13.747416  \n",
      "7                  13.870094  \n",
      "8                  13.836460  \n",
      "9                  13.654490  \n",
      "                                    MTU (CET/CEST) Area          Sequence  \\\n",
      "5082610  28/02/2019 23:10:00 - 28/02/2019 23:15:00  vic  Without sequence   \n",
      "5082611  28/02/2019 23:15:00 - 28/02/2019 23:20:00  vic  Without sequence   \n",
      "5082612  28/02/2019 23:20:00 - 28/02/2019 23:25:00  vic  Without sequence   \n",
      "5082613  28/02/2019 23:25:00 - 28/02/2019 23:30:00  vic  Without sequence   \n",
      "5082614  28/02/2019 23:30:00 - 28/02/2019 23:35:00  vic  Without sequence   \n",
      "5082615  28/02/2019 23:35:00 - 28/02/2019 23:40:00  vic  Without sequence   \n",
      "5082616  28/02/2019 23:40:00 - 28/02/2019 23:45:00  vic  Without sequence   \n",
      "5082617  28/02/2019 23:45:00 - 28/02/2019 23:50:00  vic  Without sequence   \n",
      "5082618  28/02/2019 23:50:00 - 28/02/2019 23:55:00  vic  Without sequence   \n",
      "5082619  28/02/2019 23:55:00 - 01/03/2019 00:00:00  vic  Without sequence   \n",
      "\n",
      "         Day-ahead Price (EUR/MWh)  \n",
      "5082610                 167.230960  \n",
      "5082611                 306.856110  \n",
      "5082612                 151.049210  \n",
      "5082613                 156.196180  \n",
      "5082614                 157.343840  \n",
      "5082615                 227.739870  \n",
      "5082616                 152.210680  \n",
      "5082617                  99.163567  \n",
      "5082618                  97.500000  \n",
      "5082619                  74.226509  \n",
      "['MTU (CET/CEST)', 'Area', 'Sequence', 'Day-ahead Price (EUR/MWh)']\n"
     ]
    }
   ],
   "source": [
    "import pandas as pd\n",
    "\n",
    "# Load original file\n",
    "file_path = 'data/australia_data/AEMO_PUBLIC_DVD_DISPATCHPRICE_wide.zip'\n",
    "df = pd.read_csv(file_path)\n",
    "\n",
    "# Compute minutes since midnight\n",
    "df['minutes_since_midnight'] = (df['fivemin'] - 1) * 5\n",
    "\n",
    "# Now create full timestamp\n",
    "df['datetime'] = pd.to_datetime(df['year'].astype(str) + '-' +\n",
    "                                df['month'].astype(str).str.zfill(2) + '-' +\n",
    "                                df['day'].astype(str).str.zfill(2) + ' ' +\n",
    "                                (df['minutes_since_midnight'] // 60).astype(str).str.zfill(2) + ':' +\n",
    "                                (df['minutes_since_midnight'] % 60).astype(str).str.zfill(2) + ':00',\n",
    "                                format='%Y-%m-%d %H:%M:%S')\n",
    "\n",
    "\n",
    "df['MTU (CET/CEST)'] = df['datetime'].dt.strftime('%d/%m/%Y %H:%M:%S') + ' - ' + \\\n",
    "    (df['datetime'] + pd.Timedelta(minutes=5)).dt.strftime('%d/%m/%Y %H:%M:%S')\n",
    "\n",
    "# 2️⃣ Now \"melt\" the price columns → create one row per area\n",
    "df_melted = df.melt(id_vars=['MTU (CET/CEST)'],\n",
    "                    value_vars=['rrp_nsw', 'rrp_qld', 'rrp_sa', 'rrp_tas', 'rrp_vic'],\n",
    "                    var_name='Area',\n",
    "                    value_name='Day-ahead Price (EUR/MWh)')\n",
    "\n",
    "# 3️⃣ Clean 'Area' column → remove 'rrp_' prefix\n",
    "df_melted['Area'] = df_melted['Area'].str.replace('rrp_', '', regex=False)\n",
    "\n",
    "# 4️⃣ Add 'Sequence' column\n",
    "df_melted['Sequence'] = 'Without sequence'\n",
    "\n",
    "# 5️⃣ Final column order\n",
    "df_target = df_melted[['MTU (CET/CEST)', 'Area', 'Sequence', 'Day-ahead Price (EUR/MWh)']]\n",
    "\n",
    "# 6️⃣ (Optional) inspect result\n",
    "print(df_target.head(10))\n",
    "print(df_target.tail(10))\n",
    "print(df_target.columns.tolist())"
   ]
  },
  {
   "cell_type": "code",
   "execution_count": 11,
   "id": "dea58bd5",
   "metadata": {},
   "outputs": [],
   "source": [
    "output_path = 'parquet_files/australia_data.parquet'\n",
    "df_target.to_parquet(output_path, index=False)"
   ]
  }
 ],
 "metadata": {
  "kernelspec": {
   "display_name": "Python 3",
   "language": "python",
   "name": "python3"
  },
  "language_info": {
   "codemirror_mode": {
    "name": "ipython",
    "version": 3
   },
   "file_extension": ".py",
   "mimetype": "text/x-python",
   "name": "python",
   "nbconvert_exporter": "python",
   "pygments_lexer": "ipython3",
   "version": "3.10.11"
  }
 },
 "nbformat": 4,
 "nbformat_minor": 5
}
