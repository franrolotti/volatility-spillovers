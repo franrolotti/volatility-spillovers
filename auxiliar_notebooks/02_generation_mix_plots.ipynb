{
 "cells": [
  {
   "cell_type": "markdown",
   "id": "6f5402b8",
   "metadata": {},
   "source": [
    "## Spain: Electricity Mix"
   ]
  },
  {
   "cell_type": "code",
   "execution_count": 41,
   "id": "d96b67cf",
   "metadata": {},
   "outputs": [],
   "source": [
    "import json, pandas as pd\n",
    "from pathlib import Path\n"
   ]
  },
  {
   "cell_type": "code",
   "execution_count": 42,
   "id": "8b65ee0f",
   "metadata": {},
   "outputs": [
    {
     "data": {
      "text/html": [
       "<div>\n",
       "<style scoped>\n",
       "    .dataframe tbody tr th:only-of-type {\n",
       "        vertical-align: middle;\n",
       "    }\n",
       "\n",
       "    .dataframe tbody tr th {\n",
       "        vertical-align: top;\n",
       "    }\n",
       "\n",
       "    .dataframe thead th {\n",
       "        text-align: right;\n",
       "    }\n",
       "</style>\n",
       "<table border=\"1\" class=\"dataframe\">\n",
       "  <thead>\n",
       "    <tr style=\"text-align: right;\">\n",
       "      <th>technology</th>\n",
       "      <th>Carbón</th>\n",
       "      <th>Ciclo combinado</th>\n",
       "      <th>Cogeneración</th>\n",
       "      <th>Eólica</th>\n",
       "      <th>Fuel + Gas</th>\n",
       "      <th>Generación total</th>\n",
       "      <th>Hidroeólica</th>\n",
       "      <th>Hidráulica</th>\n",
       "      <th>Motores diésel</th>\n",
       "      <th>Nuclear</th>\n",
       "      <th>Otras renovables</th>\n",
       "      <th>Residuos no renovables</th>\n",
       "      <th>Residuos renovables</th>\n",
       "      <th>Solar fotovoltaica</th>\n",
       "      <th>Solar térmica</th>\n",
       "      <th>Turbina de gas</th>\n",
       "      <th>Turbina de vapor</th>\n",
       "    </tr>\n",
       "    <tr>\n",
       "      <th>datetime</th>\n",
       "      <th></th>\n",
       "      <th></th>\n",
       "      <th></th>\n",
       "      <th></th>\n",
       "      <th></th>\n",
       "      <th></th>\n",
       "      <th></th>\n",
       "      <th></th>\n",
       "      <th></th>\n",
       "      <th></th>\n",
       "      <th></th>\n",
       "      <th></th>\n",
       "      <th></th>\n",
       "      <th></th>\n",
       "      <th></th>\n",
       "      <th></th>\n",
       "      <th></th>\n",
       "    </tr>\n",
       "  </thead>\n",
       "  <tbody>\n",
       "    <tr>\n",
       "      <th>2021-05-21</th>\n",
       "      <td>10704.287</td>\n",
       "      <td>73001.855</td>\n",
       "      <td>74625.031</td>\n",
       "      <td>155894.865</td>\n",
       "      <td>NaN</td>\n",
       "      <td>644980.744</td>\n",
       "      <td>143.171</td>\n",
       "      <td>73883.825</td>\n",
       "      <td>5279.083</td>\n",
       "      <td>119965.517</td>\n",
       "      <td>12369.130</td>\n",
       "      <td>5130.6420</td>\n",
       "      <td>1018.6720</td>\n",
       "      <td>83705.870</td>\n",
       "      <td>25501.607</td>\n",
       "      <td>870.342</td>\n",
       "      <td>2886.847</td>\n",
       "    </tr>\n",
       "    <tr>\n",
       "      <th>2021-05-22</th>\n",
       "      <td>10774.967</td>\n",
       "      <td>66884.692</td>\n",
       "      <td>70269.685</td>\n",
       "      <td>127623.325</td>\n",
       "      <td>NaN</td>\n",
       "      <td>589408.240</td>\n",
       "      <td>140.081</td>\n",
       "      <td>77443.693</td>\n",
       "      <td>4888.217</td>\n",
       "      <td>120171.870</td>\n",
       "      <td>13214.733</td>\n",
       "      <td>5166.8165</td>\n",
       "      <td>1005.4995</td>\n",
       "      <td>72179.886</td>\n",
       "      <td>16774.223</td>\n",
       "      <td>827.658</td>\n",
       "      <td>2042.894</td>\n",
       "    </tr>\n",
       "    <tr>\n",
       "      <th>2021-05-23</th>\n",
       "      <td>11510.497</td>\n",
       "      <td>71942.040</td>\n",
       "      <td>69718.071</td>\n",
       "      <td>128453.671</td>\n",
       "      <td>NaN</td>\n",
       "      <td>549018.679</td>\n",
       "      <td>134.624</td>\n",
       "      <td>55731.601</td>\n",
       "      <td>4809.192</td>\n",
       "      <td>120347.046</td>\n",
       "      <td>13563.270</td>\n",
       "      <td>5146.5330</td>\n",
       "      <td>1043.2990</td>\n",
       "      <td>50523.534</td>\n",
       "      <td>13002.416</td>\n",
       "      <td>967.950</td>\n",
       "      <td>2124.935</td>\n",
       "    </tr>\n",
       "    <tr>\n",
       "      <th>2021-05-24</th>\n",
       "      <td>16967.108</td>\n",
       "      <td>54120.475</td>\n",
       "      <td>73956.059</td>\n",
       "      <td>182665.421</td>\n",
       "      <td>NaN</td>\n",
       "      <td>646010.515</td>\n",
       "      <td>140.599</td>\n",
       "      <td>63902.700</td>\n",
       "      <td>5541.004</td>\n",
       "      <td>120062.731</td>\n",
       "      <td>13433.646</td>\n",
       "      <td>5164.7735</td>\n",
       "      <td>1006.8415</td>\n",
       "      <td>83806.643</td>\n",
       "      <td>22112.340</td>\n",
       "      <td>925.268</td>\n",
       "      <td>2204.906</td>\n",
       "    </tr>\n",
       "    <tr>\n",
       "      <th>2021-05-25</th>\n",
       "      <td>17693.930</td>\n",
       "      <td>82573.520</td>\n",
       "      <td>74239.310</td>\n",
       "      <td>141667.500</td>\n",
       "      <td>NaN</td>\n",
       "      <td>647615.565</td>\n",
       "      <td>142.516</td>\n",
       "      <td>68739.725</td>\n",
       "      <td>5671.966</td>\n",
       "      <td>120118.612</td>\n",
       "      <td>13251.959</td>\n",
       "      <td>5367.5240</td>\n",
       "      <td>1023.0020</td>\n",
       "      <td>87685.132</td>\n",
       "      <td>26520.215</td>\n",
       "      <td>738.709</td>\n",
       "      <td>2181.945</td>\n",
       "    </tr>\n",
       "  </tbody>\n",
       "</table>\n",
       "</div>"
      ],
      "text/plain": [
       "technology     Carbón  Ciclo combinado  Cogeneración      Eólica  Fuel + Gas  \\\n",
       "datetime                                                                       \n",
       "2021-05-21  10704.287        73001.855     74625.031  155894.865         NaN   \n",
       "2021-05-22  10774.967        66884.692     70269.685  127623.325         NaN   \n",
       "2021-05-23  11510.497        71942.040     69718.071  128453.671         NaN   \n",
       "2021-05-24  16967.108        54120.475     73956.059  182665.421         NaN   \n",
       "2021-05-25  17693.930        82573.520     74239.310  141667.500         NaN   \n",
       "\n",
       "technology  Generación total  Hidroeólica  Hidráulica  Motores diésel  \\\n",
       "datetime                                                                \n",
       "2021-05-21        644980.744      143.171   73883.825        5279.083   \n",
       "2021-05-22        589408.240      140.081   77443.693        4888.217   \n",
       "2021-05-23        549018.679      134.624   55731.601        4809.192   \n",
       "2021-05-24        646010.515      140.599   63902.700        5541.004   \n",
       "2021-05-25        647615.565      142.516   68739.725        5671.966   \n",
       "\n",
       "technology     Nuclear  Otras renovables  Residuos no renovables  \\\n",
       "datetime                                                           \n",
       "2021-05-21  119965.517         12369.130               5130.6420   \n",
       "2021-05-22  120171.870         13214.733               5166.8165   \n",
       "2021-05-23  120347.046         13563.270               5146.5330   \n",
       "2021-05-24  120062.731         13433.646               5164.7735   \n",
       "2021-05-25  120118.612         13251.959               5367.5240   \n",
       "\n",
       "technology  Residuos renovables  Solar fotovoltaica  Solar térmica  \\\n",
       "datetime                                                             \n",
       "2021-05-21            1018.6720           83705.870      25501.607   \n",
       "2021-05-22            1005.4995           72179.886      16774.223   \n",
       "2021-05-23            1043.2990           50523.534      13002.416   \n",
       "2021-05-24            1006.8415           83806.643      22112.340   \n",
       "2021-05-25            1023.0020           87685.132      26520.215   \n",
       "\n",
       "technology  Turbina de gas  Turbina de vapor  \n",
       "datetime                                      \n",
       "2021-05-21         870.342          2886.847  \n",
       "2021-05-22         827.658          2042.894  \n",
       "2021-05-23         967.950          2124.935  \n",
       "2021-05-24         925.268          2204.906  \n",
       "2021-05-25         738.709          2181.945  "
      ]
     },
     "execution_count": 42,
     "metadata": {},
     "output_type": "execute_result"
    }
   ],
   "source": [
    "\n",
    "# Paths to the two Spanish generation‑mix JSON files\n",
    "files = [\n",
    "    Path(\"..\") / \"data\" / \"generation_data\" / \"gen_SP_1.json\",\n",
    "    Path(\"..\") / \"data\" / \"generation_data\" / \"gen_SP_2.json\",\n",
    "]\n",
    "\n",
    "rows = []\n",
    "for fp in files:\n",
    "    with open(fp, \"r\", encoding=\"utf-8\") as f:\n",
    "        js = json.load(f)\n",
    "\n",
    "    # Each technology is in `included`; its daily series is under attributes → values\n",
    "    for tech in js.get(\"included\", []):\n",
    "        tech_name = tech[\"attributes\"][\"title\"]  # e.g. \"Hidráulica\"\n",
    "        for v in tech[\"attributes\"].get(\"values\", []):\n",
    "            rows.append(\n",
    "                {\n",
    "                    \"datetime\": v[\"datetime\"][:10],  # keep date part YYYY‑MM‑DD\n",
    "                    \"technology\": tech_name,\n",
    "                    \"value\": v[\"value\"],\n",
    "                }\n",
    "            )\n",
    "\n",
    "# Long → wide\n",
    "df_long = pd.DataFrame(rows)\n",
    "df_long[\"datetime\"] = pd.to_datetime(df_long[\"datetime\"])\n",
    "\n",
    "df_wide = (\n",
    "    df_long.pivot_table(\n",
    "        index=\"datetime\", columns=\"technology\", values=\"value\", aggfunc=\"sum\"\n",
    "    )\n",
    "    .sort_index()\n",
    ")\n",
    "\n",
    "df_wide.head()\n"
   ]
  },
  {
   "cell_type": "code",
   "execution_count": 85,
   "id": "bb48a327",
   "metadata": {},
   "outputs": [
    {
     "name": "stdout",
     "output_type": "stream",
     "text": [
      "2021-05-21 2025-04-30\n"
     ]
    }
   ],
   "source": [
    "df_aux = df_wide.reset_index()\n",
    "min_date, max_date = df_aux[\"datetime\"].min().date().isoformat(), df_aux[\"datetime\"].max().date().isoformat()\n",
    "print(min_date,  max_date)"
   ]
  },
  {
   "cell_type": "code",
   "execution_count": 87,
   "id": "aa06d06a",
   "metadata": {},
   "outputs": [
    {
     "name": "stdout",
     "output_type": "stream",
     "text": [
      "CSV diario guardado en: C:\\Users\\frolo\\Documentos\\PythonProjects\\volatility-spillovers\\data\\generation_data\\eco2mix_SP_daily_2021-05-21_2025-04-30.csv\n"
     ]
    },
    {
     "data": {
      "text/html": [
       "<div>\n",
       "<style scoped>\n",
       "    .dataframe tbody tr th:only-of-type {\n",
       "        vertical-align: middle;\n",
       "    }\n",
       "\n",
       "    .dataframe tbody tr th {\n",
       "        vertical-align: top;\n",
       "    }\n",
       "\n",
       "    .dataframe thead th {\n",
       "        text-align: right;\n",
       "    }\n",
       "</style>\n",
       "<table border=\"1\" class=\"dataframe\">\n",
       "  <thead>\n",
       "    <tr style=\"text-align: right;\">\n",
       "      <th>technology</th>\n",
       "      <th>Carbón</th>\n",
       "      <th>Ciclo combinado</th>\n",
       "      <th>Cogeneración</th>\n",
       "      <th>Eólica</th>\n",
       "      <th>Fuel + Gas</th>\n",
       "      <th>Generación total</th>\n",
       "      <th>Hidroeólica</th>\n",
       "      <th>Hidráulica</th>\n",
       "      <th>Motores diésel</th>\n",
       "      <th>Nuclear</th>\n",
       "      <th>Otras renovables</th>\n",
       "      <th>Residuos no renovables</th>\n",
       "      <th>Residuos renovables</th>\n",
       "      <th>Solar fotovoltaica</th>\n",
       "      <th>Solar térmica</th>\n",
       "      <th>Turbina de gas</th>\n",
       "      <th>Turbina de vapor</th>\n",
       "    </tr>\n",
       "    <tr>\n",
       "      <th>datetime</th>\n",
       "      <th></th>\n",
       "      <th></th>\n",
       "      <th></th>\n",
       "      <th></th>\n",
       "      <th></th>\n",
       "      <th></th>\n",
       "      <th></th>\n",
       "      <th></th>\n",
       "      <th></th>\n",
       "      <th></th>\n",
       "      <th></th>\n",
       "      <th></th>\n",
       "      <th></th>\n",
       "      <th></th>\n",
       "      <th></th>\n",
       "      <th></th>\n",
       "      <th></th>\n",
       "    </tr>\n",
       "  </thead>\n",
       "  <tbody>\n",
       "    <tr>\n",
       "      <th>2021-05-21</th>\n",
       "      <td>10704.287</td>\n",
       "      <td>73001.855</td>\n",
       "      <td>74625.031</td>\n",
       "      <td>155894.865</td>\n",
       "      <td>NaN</td>\n",
       "      <td>644980.744</td>\n",
       "      <td>143.171</td>\n",
       "      <td>73883.825</td>\n",
       "      <td>5279.083</td>\n",
       "      <td>119965.517</td>\n",
       "      <td>12369.130</td>\n",
       "      <td>5130.6420</td>\n",
       "      <td>1018.6720</td>\n",
       "      <td>83705.870</td>\n",
       "      <td>25501.607</td>\n",
       "      <td>870.342</td>\n",
       "      <td>2886.847</td>\n",
       "    </tr>\n",
       "    <tr>\n",
       "      <th>2021-05-22</th>\n",
       "      <td>10774.967</td>\n",
       "      <td>66884.692</td>\n",
       "      <td>70269.685</td>\n",
       "      <td>127623.325</td>\n",
       "      <td>NaN</td>\n",
       "      <td>589408.240</td>\n",
       "      <td>140.081</td>\n",
       "      <td>77443.693</td>\n",
       "      <td>4888.217</td>\n",
       "      <td>120171.870</td>\n",
       "      <td>13214.733</td>\n",
       "      <td>5166.8165</td>\n",
       "      <td>1005.4995</td>\n",
       "      <td>72179.886</td>\n",
       "      <td>16774.223</td>\n",
       "      <td>827.658</td>\n",
       "      <td>2042.894</td>\n",
       "    </tr>\n",
       "    <tr>\n",
       "      <th>2021-05-23</th>\n",
       "      <td>11510.497</td>\n",
       "      <td>71942.040</td>\n",
       "      <td>69718.071</td>\n",
       "      <td>128453.671</td>\n",
       "      <td>NaN</td>\n",
       "      <td>549018.679</td>\n",
       "      <td>134.624</td>\n",
       "      <td>55731.601</td>\n",
       "      <td>4809.192</td>\n",
       "      <td>120347.046</td>\n",
       "      <td>13563.270</td>\n",
       "      <td>5146.5330</td>\n",
       "      <td>1043.2990</td>\n",
       "      <td>50523.534</td>\n",
       "      <td>13002.416</td>\n",
       "      <td>967.950</td>\n",
       "      <td>2124.935</td>\n",
       "    </tr>\n",
       "    <tr>\n",
       "      <th>2021-05-24</th>\n",
       "      <td>16967.108</td>\n",
       "      <td>54120.475</td>\n",
       "      <td>73956.059</td>\n",
       "      <td>182665.421</td>\n",
       "      <td>NaN</td>\n",
       "      <td>646010.515</td>\n",
       "      <td>140.599</td>\n",
       "      <td>63902.700</td>\n",
       "      <td>5541.004</td>\n",
       "      <td>120062.731</td>\n",
       "      <td>13433.646</td>\n",
       "      <td>5164.7735</td>\n",
       "      <td>1006.8415</td>\n",
       "      <td>83806.643</td>\n",
       "      <td>22112.340</td>\n",
       "      <td>925.268</td>\n",
       "      <td>2204.906</td>\n",
       "    </tr>\n",
       "    <tr>\n",
       "      <th>2021-05-25</th>\n",
       "      <td>17693.930</td>\n",
       "      <td>82573.520</td>\n",
       "      <td>74239.310</td>\n",
       "      <td>141667.500</td>\n",
       "      <td>NaN</td>\n",
       "      <td>647615.565</td>\n",
       "      <td>142.516</td>\n",
       "      <td>68739.725</td>\n",
       "      <td>5671.966</td>\n",
       "      <td>120118.612</td>\n",
       "      <td>13251.959</td>\n",
       "      <td>5367.5240</td>\n",
       "      <td>1023.0020</td>\n",
       "      <td>87685.132</td>\n",
       "      <td>26520.215</td>\n",
       "      <td>738.709</td>\n",
       "      <td>2181.945</td>\n",
       "    </tr>\n",
       "  </tbody>\n",
       "</table>\n",
       "</div>"
      ],
      "text/plain": [
       "technology     Carbón  Ciclo combinado  Cogeneración      Eólica  Fuel + Gas  \\\n",
       "datetime                                                                       \n",
       "2021-05-21  10704.287        73001.855     74625.031  155894.865         NaN   \n",
       "2021-05-22  10774.967        66884.692     70269.685  127623.325         NaN   \n",
       "2021-05-23  11510.497        71942.040     69718.071  128453.671         NaN   \n",
       "2021-05-24  16967.108        54120.475     73956.059  182665.421         NaN   \n",
       "2021-05-25  17693.930        82573.520     74239.310  141667.500         NaN   \n",
       "\n",
       "technology  Generación total  Hidroeólica  Hidráulica  Motores diésel  \\\n",
       "datetime                                                                \n",
       "2021-05-21        644980.744      143.171   73883.825        5279.083   \n",
       "2021-05-22        589408.240      140.081   77443.693        4888.217   \n",
       "2021-05-23        549018.679      134.624   55731.601        4809.192   \n",
       "2021-05-24        646010.515      140.599   63902.700        5541.004   \n",
       "2021-05-25        647615.565      142.516   68739.725        5671.966   \n",
       "\n",
       "technology     Nuclear  Otras renovables  Residuos no renovables  \\\n",
       "datetime                                                           \n",
       "2021-05-21  119965.517         12369.130               5130.6420   \n",
       "2021-05-22  120171.870         13214.733               5166.8165   \n",
       "2021-05-23  120347.046         13563.270               5146.5330   \n",
       "2021-05-24  120062.731         13433.646               5164.7735   \n",
       "2021-05-25  120118.612         13251.959               5367.5240   \n",
       "\n",
       "technology  Residuos renovables  Solar fotovoltaica  Solar térmica  \\\n",
       "datetime                                                             \n",
       "2021-05-21            1018.6720           83705.870      25501.607   \n",
       "2021-05-22            1005.4995           72179.886      16774.223   \n",
       "2021-05-23            1043.2990           50523.534      13002.416   \n",
       "2021-05-24            1006.8415           83806.643      22112.340   \n",
       "2021-05-25            1023.0020           87685.132      26520.215   \n",
       "\n",
       "technology  Turbina de gas  Turbina de vapor  \n",
       "datetime                                      \n",
       "2021-05-21         870.342          2886.847  \n",
       "2021-05-22         827.658          2042.894  \n",
       "2021-05-23         967.950          2124.935  \n",
       "2021-05-24         925.268          2204.906  \n",
       "2021-05-25         738.709          2181.945  "
      ]
     },
     "execution_count": 87,
     "metadata": {},
     "output_type": "execute_result"
    }
   ],
   "source": [
    "\n",
    "# --- guardar ----------------------------------------------------\n",
    "out_path = Path(\"..\") / \"data\" / \"generation_data\" / f\"eco2mix_SP_daily_{min_date}_{max_date}.csv\"\n",
    "out_path.parent.mkdir(parents=True, exist_ok=True)\n",
    "df_wide.to_csv(out_path, index=False, encoding=\"utf-8\")\n",
    "\n",
    "print(\"CSV diario guardado en:\", out_path.resolve())\n",
    "df_wide.head()"
   ]
  },
  {
   "cell_type": "markdown",
   "id": "ea2f6689",
   "metadata": {},
   "source": [
    "## Portugal: Electricity Mix"
   ]
  },
  {
   "cell_type": "code",
   "execution_count": 43,
   "id": "9ae7c374",
   "metadata": {},
   "outputs": [],
   "source": [
    "# Imports and API\n",
    "\n",
    "\n",
    "import requests, time, json\n",
    "import pandas as pd\n",
    "from datetime import datetime, timedelta\n",
    "from tqdm.notebook import tqdm   \n",
    "import matplotlib.pyplot as plt\n",
    "from requests.adapters import HTTPAdapter, Retry\n",
    "from pathlib import Path\n",
    "\n",
    "\n",
    "\n",
    "%matplotlib inline\n",
    "\n"
   ]
  },
  {
   "cell_type": "code",
   "execution_count": 44,
   "id": "78ce3581",
   "metadata": {},
   "outputs": [],
   "source": [
    "API = (\"https://servicebus.ren.pt/datahubapi/electricity/\"\n",
    "       \"ElectricityConsumptionSupplyDaily\")\n",
    "\n",
    "# ▶️ sesión con reintentos exponenciales\n",
    "def make_session(retries=5, backoff=0.5) -> requests.Session:\n",
    "    retry = Retry(\n",
    "        total=retries,             # nº máx. de reintentos\n",
    "        backoff_factor=backoff,    # 0.5 → 0.5s, 1s, 2s, 4s…\n",
    "        status_forcelist=[500, 502, 503, 504],\n",
    "        allowed_methods=[\"GET\"]\n",
    "    )\n",
    "    adapter = HTTPAdapter(max_retries=retry)\n",
    "    sess = requests.Session()\n",
    "    sess.mount(\"https://\", adapter)\n",
    "    return sess\n",
    "\n",
    "session = make_session()\n",
    "\n",
    "def fetch_day(date_str, culture=\"pt-PT\", read_timeout=60):\n",
    "    url = f\"{API}?culture={culture}&date={date_str}\"\n",
    "    r = session.get(url, timeout=(10, read_timeout))  # 10 s para conectar, 60 s para leer\n",
    "    r.raise_for_status()\n",
    "    data = r.json()\n",
    "    if not data or isinstance(data, dict):\n",
    "        return None\n",
    "    df = pd.DataFrame(data)\n",
    "    df[\"date\"] = pd.to_datetime(date_str)\n",
    "    return df"
   ]
  },
  {
   "cell_type": "code",
   "execution_count": 45,
   "id": "4e2ff2c6",
   "metadata": {},
   "outputs": [
    {
     "data": {
      "application/vnd.jupyter.widget-view+json": {
       "model_id": "2b8d04d4b5664511a2cbbe5d87e535bb",
       "version_major": 2,
       "version_minor": 0
      },
      "text/plain": [
       "Descargando:   0%|          | 0/1441 [00:00<?, ?it/s]"
      ]
     },
     "metadata": {},
     "output_type": "display_data"
    },
    {
     "name": "stdout",
     "output_type": "stream",
     "text": [
      "36242 filas descargadas.\n"
     ]
    }
   ],
   "source": [
    "start = datetime(2021, 5, 21)\n",
    "end   = datetime(2025, 4, 30)\n",
    "\n",
    "frames = []\n",
    "for day in tqdm(list(daterange(start, end)), desc=\"Descargando\"):\n",
    "    df = fetch_day(day.strftime(\"%Y-%m-%d\"))\n",
    "    if df is not None:\n",
    "        frames.append(df)\n",
    "    time.sleep(0.3)   # evita sobrecargar el servidor\n",
    "\n",
    "consumo_raw = pd.concat(frames, ignore_index=True)\n",
    "print(f\"{len(consumo_raw)} filas descargadas.\")\n",
    "\n"
   ]
  },
  {
   "cell_type": "code",
   "execution_count": 46,
   "id": "7048cc92",
   "metadata": {},
   "outputs": [
    {
     "data": {
      "text/html": [
       "<div>\n",
       "<style scoped>\n",
       "    .dataframe tbody tr th:only-of-type {\n",
       "        vertical-align: middle;\n",
       "    }\n",
       "\n",
       "    .dataframe tbody tr th {\n",
       "        vertical-align: top;\n",
       "    }\n",
       "\n",
       "    .dataframe thead th {\n",
       "        text-align: right;\n",
       "    }\n",
       "</style>\n",
       "<table border=\"1\" class=\"dataframe\">\n",
       "  <thead>\n",
       "    <tr style=\"text-align: right;\">\n",
       "      <th>type</th>\n",
       "      <th>BIOMASSA</th>\n",
       "      <th>BIOMASSA_COGERACAO</th>\n",
       "      <th>BIOMASSA_OUTROS</th>\n",
       "      <th>CARVAO</th>\n",
       "      <th>CONSUMO</th>\n",
       "      <th>CONSUMO_ARMAZENAMENTO</th>\n",
       "      <th>CONSUMO_BATERIAS</th>\n",
       "      <th>CONSUMO_BOMBAGEM</th>\n",
       "      <th>CORRIGIDO_TEMPERATURA</th>\n",
       "      <th>EOLICA</th>\n",
       "      <th>...</th>\n",
       "      <th>OUTRA_TERMICA</th>\n",
       "      <th>OUTRA_TERMICA_COGERACAO</th>\n",
       "      <th>OUTRA_TERMICA_OUTROS</th>\n",
       "      <th>PRODUCAO_ARMAZENAMENTO</th>\n",
       "      <th>PRODUCAO_BOMBAGEM</th>\n",
       "      <th>PRODUCAO_NAO_RENOVAVEL</th>\n",
       "      <th>PRODUCAO_RENOVAVEL</th>\n",
       "      <th>PRODUCAO_TOTAL</th>\n",
       "      <th>SALDO_IMPORTADOR</th>\n",
       "      <th>SOLAR</th>\n",
       "    </tr>\n",
       "    <tr>\n",
       "      <th>date</th>\n",
       "      <th></th>\n",
       "      <th></th>\n",
       "      <th></th>\n",
       "      <th></th>\n",
       "      <th></th>\n",
       "      <th></th>\n",
       "      <th></th>\n",
       "      <th></th>\n",
       "      <th></th>\n",
       "      <th></th>\n",
       "      <th></th>\n",
       "      <th></th>\n",
       "      <th></th>\n",
       "      <th></th>\n",
       "      <th></th>\n",
       "      <th></th>\n",
       "      <th></th>\n",
       "      <th></th>\n",
       "      <th></th>\n",
       "      <th></th>\n",
       "      <th></th>\n",
       "    </tr>\n",
       "  </thead>\n",
       "  <tbody>\n",
       "    <tr>\n",
       "      <th>2021-05-21</th>\n",
       "      <td>10.0</td>\n",
       "      <td>5.0</td>\n",
       "      <td>5.0</td>\n",
       "      <td>0.0</td>\n",
       "      <td>133.0</td>\n",
       "      <td>5.0</td>\n",
       "      <td>0.0</td>\n",
       "      <td>5.0</td>\n",
       "      <td>133.0</td>\n",
       "      <td>45.0</td>\n",
       "      <td>...</td>\n",
       "      <td>1.0</td>\n",
       "      <td>0.0</td>\n",
       "      <td>1.0</td>\n",
       "      <td>6.0</td>\n",
       "      <td>6.0</td>\n",
       "      <td>42.0</td>\n",
       "      <td>71.0</td>\n",
       "      <td>119.0</td>\n",
       "      <td>19.0</td>\n",
       "      <td>6.0</td>\n",
       "    </tr>\n",
       "    <tr>\n",
       "      <th>2021-05-22</th>\n",
       "      <td>10.0</td>\n",
       "      <td>5.0</td>\n",
       "      <td>5.0</td>\n",
       "      <td>0.0</td>\n",
       "      <td>117.0</td>\n",
       "      <td>5.0</td>\n",
       "      <td>0.0</td>\n",
       "      <td>5.0</td>\n",
       "      <td>117.0</td>\n",
       "      <td>49.0</td>\n",
       "      <td>...</td>\n",
       "      <td>1.0</td>\n",
       "      <td>0.0</td>\n",
       "      <td>1.0</td>\n",
       "      <td>5.0</td>\n",
       "      <td>5.0</td>\n",
       "      <td>10.0</td>\n",
       "      <td>80.0</td>\n",
       "      <td>95.0</td>\n",
       "      <td>27.0</td>\n",
       "      <td>5.0</td>\n",
       "    </tr>\n",
       "    <tr>\n",
       "      <th>2021-05-23</th>\n",
       "      <td>9.0</td>\n",
       "      <td>5.0</td>\n",
       "      <td>5.0</td>\n",
       "      <td>0.0</td>\n",
       "      <td>108.0</td>\n",
       "      <td>13.0</td>\n",
       "      <td>0.0</td>\n",
       "      <td>13.0</td>\n",
       "      <td>108.0</td>\n",
       "      <td>59.0</td>\n",
       "      <td>...</td>\n",
       "      <td>1.0</td>\n",
       "      <td>0.0</td>\n",
       "      <td>1.0</td>\n",
       "      <td>2.0</td>\n",
       "      <td>2.0</td>\n",
       "      <td>8.0</td>\n",
       "      <td>84.0</td>\n",
       "      <td>95.0</td>\n",
       "      <td>27.0</td>\n",
       "      <td>7.0</td>\n",
       "    </tr>\n",
       "    <tr>\n",
       "      <th>2021-05-24</th>\n",
       "      <td>9.0</td>\n",
       "      <td>4.0</td>\n",
       "      <td>5.0</td>\n",
       "      <td>0.0</td>\n",
       "      <td>129.0</td>\n",
       "      <td>13.0</td>\n",
       "      <td>0.0</td>\n",
       "      <td>13.0</td>\n",
       "      <td>129.0</td>\n",
       "      <td>47.0</td>\n",
       "      <td>...</td>\n",
       "      <td>1.0</td>\n",
       "      <td>0.0</td>\n",
       "      <td>1.0</td>\n",
       "      <td>5.0</td>\n",
       "      <td>5.0</td>\n",
       "      <td>22.0</td>\n",
       "      <td>77.0</td>\n",
       "      <td>104.0</td>\n",
       "      <td>38.0</td>\n",
       "      <td>5.0</td>\n",
       "    </tr>\n",
       "    <tr>\n",
       "      <th>2021-05-25</th>\n",
       "      <td>8.0</td>\n",
       "      <td>3.0</td>\n",
       "      <td>5.0</td>\n",
       "      <td>0.0</td>\n",
       "      <td>133.0</td>\n",
       "      <td>0.0</td>\n",
       "      <td>0.0</td>\n",
       "      <td>0.0</td>\n",
       "      <td>133.0</td>\n",
       "      <td>35.0</td>\n",
       "      <td>...</td>\n",
       "      <td>1.0</td>\n",
       "      <td>0.0</td>\n",
       "      <td>1.0</td>\n",
       "      <td>10.0</td>\n",
       "      <td>10.0</td>\n",
       "      <td>44.0</td>\n",
       "      <td>68.0</td>\n",
       "      <td>123.0</td>\n",
       "      <td>10.0</td>\n",
       "      <td>6.0</td>\n",
       "    </tr>\n",
       "  </tbody>\n",
       "</table>\n",
       "<p>5 rows × 28 columns</p>\n",
       "</div>"
      ],
      "text/plain": [
       "type        BIOMASSA  BIOMASSA_COGERACAO  BIOMASSA_OUTROS  CARVAO  CONSUMO  \\\n",
       "date                                                                         \n",
       "2021-05-21      10.0                 5.0              5.0     0.0    133.0   \n",
       "2021-05-22      10.0                 5.0              5.0     0.0    117.0   \n",
       "2021-05-23       9.0                 5.0              5.0     0.0    108.0   \n",
       "2021-05-24       9.0                 4.0              5.0     0.0    129.0   \n",
       "2021-05-25       8.0                 3.0              5.0     0.0    133.0   \n",
       "\n",
       "type        CONSUMO_ARMAZENAMENTO  CONSUMO_BATERIAS  CONSUMO_BOMBAGEM  \\\n",
       "date                                                                    \n",
       "2021-05-21                    5.0               0.0               5.0   \n",
       "2021-05-22                    5.0               0.0               5.0   \n",
       "2021-05-23                   13.0               0.0              13.0   \n",
       "2021-05-24                   13.0               0.0              13.0   \n",
       "2021-05-25                    0.0               0.0               0.0   \n",
       "\n",
       "type        CORRIGIDO_TEMPERATURA  EOLICA  ...  OUTRA_TERMICA  \\\n",
       "date                                       ...                  \n",
       "2021-05-21                  133.0    45.0  ...            1.0   \n",
       "2021-05-22                  117.0    49.0  ...            1.0   \n",
       "2021-05-23                  108.0    59.0  ...            1.0   \n",
       "2021-05-24                  129.0    47.0  ...            1.0   \n",
       "2021-05-25                  133.0    35.0  ...            1.0   \n",
       "\n",
       "type        OUTRA_TERMICA_COGERACAO  OUTRA_TERMICA_OUTROS  \\\n",
       "date                                                        \n",
       "2021-05-21                      0.0                   1.0   \n",
       "2021-05-22                      0.0                   1.0   \n",
       "2021-05-23                      0.0                   1.0   \n",
       "2021-05-24                      0.0                   1.0   \n",
       "2021-05-25                      0.0                   1.0   \n",
       "\n",
       "type        PRODUCAO_ARMAZENAMENTO  PRODUCAO_BOMBAGEM  PRODUCAO_NAO_RENOVAVEL  \\\n",
       "date                                                                            \n",
       "2021-05-21                     6.0                6.0                    42.0   \n",
       "2021-05-22                     5.0                5.0                    10.0   \n",
       "2021-05-23                     2.0                2.0                     8.0   \n",
       "2021-05-24                     5.0                5.0                    22.0   \n",
       "2021-05-25                    10.0               10.0                    44.0   \n",
       "\n",
       "type        PRODUCAO_RENOVAVEL  PRODUCAO_TOTAL  SALDO_IMPORTADOR  SOLAR  \n",
       "date                                                                     \n",
       "2021-05-21                71.0           119.0              19.0    6.0  \n",
       "2021-05-22                80.0            95.0              27.0    5.0  \n",
       "2021-05-23                84.0            95.0              27.0    7.0  \n",
       "2021-05-24                77.0           104.0              38.0    5.0  \n",
       "2021-05-25                68.0           123.0              10.0    6.0  \n",
       "\n",
       "[5 rows x 28 columns]"
      ]
     },
     "execution_count": 46,
     "metadata": {},
     "output_type": "execute_result"
    }
   ],
   "source": [
    "pivot = consumo_raw.pivot_table(index=\"date\",\n",
    "                                columns=\"type\",\n",
    "                                values=\"daily_Accumulation\",\n",
    "                                aggfunc=\"sum\").fillna(0)\n",
    "\n",
    "pivot.head()          # primera vista\n"
   ]
  },
  {
   "cell_type": "code",
   "execution_count": 47,
   "id": "c22e7b20",
   "metadata": {},
   "outputs": [],
   "source": [
    "# build the path one level up, inside data/generation_data\n",
    "out_path = Path(\"..\") / \"data\" / \"generation_data\"\n",
    "out_path.mkdir(parents=True, exist_ok=True)   # creates ../data/generation_data/\n",
    "\n",
    "pivot.to_csv(out_path / \"consumo_PT_2021-05-21_2023-04-30.csv\",\n",
    "             encoding=\"utf-8\",\n",
    "             index=False)\n",
    "\n",
    "\n"
   ]
  },
  {
   "cell_type": "code",
   "execution_count": 48,
   "id": "5ac02b6b",
   "metadata": {},
   "outputs": [
    {
     "data": {
      "image/png": "[encoded data removed]",
      "text/plain": [
       "<Figure size 640x480 with 1 Axes>"
      ]
     },
     "metadata": {},
     "output_type": "display_data"
    }
   ],
   "source": [
    "# Ejemplo: pila apilada de producción renovable vs. no renovable\n",
    "ren = [\"EOLICA\", \"HIDRICA\", \"SOLAR\", \"BIOMASSA\"]\n",
    "non_ren = [c for c in pivot.columns if c not in ren]\n",
    "\n",
    "pivot[ren].sum(axis=1).plot(label=\"Renovable\")\n",
    "pivot[non_ren].sum(axis=1).plot(label=\"No renovable\")\n",
    "plt.title(\"Producción eléctrica diaria – Portugal\")\n",
    "plt.ylabel(\"GWh\")\n",
    "plt.legend()\n",
    "plt.tight_layout()\n",
    "plt.show()"
   ]
  },
  {
   "cell_type": "markdown",
   "id": "db5193a3",
   "metadata": {},
   "source": [
    "## France: Electricity Mix"
   ]
  },
  {
   "cell_type": "code",
   "execution_count": null,
   "id": "3c2106e9",
   "metadata": {},
   "outputs": [],
   "source": [
    "import requests, pprint, json, pandas as pd, datetime as dt\n",
    "from tqdm.notebook import tqdm\n",
    "import datetime as dt\n",
    "import numpy as np\n",
    "import pathlib as Path"
   ]
  },
  {
   "cell_type": "code",
   "execution_count": 72,
   "id": "be3a7e1d",
   "metadata": {},
   "outputs": [],
   "source": [
    "BASE = \"https://odre.opendatasoft.com/api/v2/catalog/datasets\"\n",
    "DATASET = \"eco2mix-national-cons-def\"\n",
    "\n",
    "FIELDS = [\n",
    "    \"date_heure\",          # marca de tiempo\n",
    "    \"consommation\",        # carga total\n",
    "    # Renovables\n",
    "    \"eolien\",\n",
    "    \"solaire\",\n",
    "    # Hidráulica (suma de sub-tipos más abajo)\n",
    "    \"hydraulique_fil_eau_eclusee\",\n",
    "    \"hydraulique_lacs\",\n",
    "    \"hydraulique_step_turbinage\",\n",
    "    # Fósiles\n",
    "    \"gaz_tac\", \"gaz_cogen\", \"gaz_ccg\", \"gaz_autres\",\n",
    "    \"fioul_tac\", \"fioul_cogen\", \"fioul_autres\",\n",
    "    \"charbon\",\n",
    "    # Nuclear\n",
    "    \"nucleaire\",\n",
    "    # Bioenergías\n",
    "    \"bioenergies_dechets\", \"bioenergies_biogaz\", \"bioenergies_biomasse\",\n",
    "    # Intercambios y CO₂ (opcional)\n",
    "    \"ech_physiques\", \"taux_co2\"\n",
    "]\n",
    "\n"
   ]
  },
  {
   "cell_type": "code",
   "execution_count": 73,
   "id": "5ded8d19",
   "metadata": {},
   "outputs": [],
   "source": [
    "# ───────────────────────── helpers ──────────────────────────\n",
    "def api_records(params, timeout=60):\n",
    "    \"\"\"Devuelve lista de dicts con los 'fields'.\"\"\"\n",
    "    url = f\"{BASE}/{DATASET}/records\"\n",
    "    r   = requests.get(url, params=params, timeout=timeout)\n",
    "    js  = r.json()\n",
    "    if r.status_code != 200 or \"error\" in js:\n",
    "        raise RuntimeError(f\"[{r.status_code}] {js.get('error', js)}\")\n",
    "    # 'records' → cada elem. → 'record' → 'fields'\n",
    "    return [rec[\"record\"][\"fields\"] for rec in js.get(\"records\", [])]\n",
    "\n",
    "\n",
    "def dataset_bounds():\n",
    "    earliest = api_records({\"select\":\"date_heure\",\n",
    "                            \"order_by\":\"date_heure\", \"limit\":1})[0][\"date_heure\"]\n",
    "    latest   = api_records({\"select\":\"date_heure\",\n",
    "                            \"order_by\":\"date_heure desc\", \"limit\":1})[0][\"date_heure\"]\n",
    "    return earliest, latest\n",
    "\n",
    "\n",
    "def fetch_interval(start_iso, end_iso, batch=100, pbar=None):\n",
    "    rows, offset = [], 0\n",
    "    while True:\n",
    "        page = api_records({\n",
    "            \"select\": \",\".join(FIELDS),\n",
    "            \"where\": f\"date_heure >= '{start_iso}' AND date_heure < '{end_iso}'\",\n",
    "            \"order_by\": \"date_heure\",\n",
    "            \"limit\": batch,\n",
    "            \"offset\": offset,\n",
    "            \"timezone\": \"Europe/Paris\"\n",
    "        })\n",
    "        if not page:\n",
    "            if offset == 0:\n",
    "                print(f\"⚠️ sin filas {start_iso}→{end_iso}\")\n",
    "            break\n",
    "        rows.extend(page)\n",
    "        offset += batch\n",
    "        if pbar:\n",
    "            pbar.update(len(page))\n",
    "        if len(page) < batch:\n",
    "            break\n",
    "    return pd.DataFrame(rows)"
   ]
  },
  {
   "cell_type": "code",
   "execution_count": 74,
   "id": "3650be68",
   "metadata": {},
   "outputs": [
    {
     "data": {
      "application/vnd.jupyter.widget-view+json": {
       "model_id": "845043000aec40c9a6e1c7db0ce3c1d6",
       "version_major": 2,
       "version_minor": 0
      },
      "text/plain": [
       "Meses:   0%|          | 0/23 [00:00<?, ?mes/s]"
      ]
     },
     "metadata": {},
     "output_type": "display_data"
    },
    {
     "data": {
      "application/vnd.jupyter.widget-view+json": {
       "model_id": "bd0837757ca34d18a2c541b432770f69",
       "version_major": 2,
       "version_minor": 0
      },
      "text/plain": [
       "2021-06-01: 0rows [00:00, ?rows/s]"
      ]
     },
     "metadata": {},
     "output_type": "display_data"
    },
    {
     "data": {
      "application/vnd.jupyter.widget-view+json": {
       "model_id": "a660d4caefe844988ee9cba913dcedfc",
       "version_major": 2,
       "version_minor": 0
      },
      "text/plain": [
       "2021-07-01: 0rows [00:00, ?rows/s]"
      ]
     },
     "metadata": {},
     "output_type": "display_data"
    },
    {
     "data": {
      "application/vnd.jupyter.widget-view+json": {
       "model_id": "0534055089074b7dab2a9f6fa151b028",
       "version_major": 2,
       "version_minor": 0
      },
      "text/plain": [
       "2021-08-01: 0rows [00:00, ?rows/s]"
      ]
     },
     "metadata": {},
     "output_type": "display_data"
    },
    {
     "data": {
      "application/vnd.jupyter.widget-view+json": {
       "model_id": "c66b20982818420790b9e37135254ada",
       "version_major": 2,
       "version_minor": 0
      },
      "text/plain": [
       "2021-09-01: 0rows [00:00, ?rows/s]"
      ]
     },
     "metadata": {},
     "output_type": "display_data"
    },
    {
     "data": {
      "application/vnd.jupyter.widget-view+json": {
       "model_id": "4cbc14b3a60947559dbdbf2843e1d24f",
       "version_major": 2,
       "version_minor": 0
      },
      "text/plain": [
       "2021-10-01: 0rows [00:00, ?rows/s]"
      ]
     },
     "metadata": {},
     "output_type": "display_data"
    },
    {
     "data": {
      "application/vnd.jupyter.widget-view+json": {
       "model_id": "9421d129e8ac4f10a24b5c2cad376b49",
       "version_major": 2,
       "version_minor": 0
      },
      "text/plain": [
       "2021-11-01: 0rows [00:00, ?rows/s]"
      ]
     },
     "metadata": {},
     "output_type": "display_data"
    },
    {
     "data": {
      "application/vnd.jupyter.widget-view+json": {
       "model_id": "daa8474c7ee84d84ba4d1817811aff63",
       "version_major": 2,
       "version_minor": 0
      },
      "text/plain": [
       "2021-12-01: 0rows [00:00, ?rows/s]"
      ]
     },
     "metadata": {},
     "output_type": "display_data"
    },
    {
     "data": {
      "application/vnd.jupyter.widget-view+json": {
       "model_id": "2ecdad514b5046c1b8de432000466cef",
       "version_major": 2,
       "version_minor": 0
      },
      "text/plain": [
       "2022-01-01: 0rows [00:00, ?rows/s]"
      ]
     },
     "metadata": {},
     "output_type": "display_data"
    },
    {
     "data": {
      "application/vnd.jupyter.widget-view+json": {
       "model_id": "0564cf1b0b134ba7808806b736f29ee9",
       "version_major": 2,
       "version_minor": 0
      },
      "text/plain": [
       "2022-02-01: 0rows [00:00, ?rows/s]"
      ]
     },
     "metadata": {},
     "output_type": "display_data"
    },
    {
     "data": {
      "application/vnd.jupyter.widget-view+json": {
       "model_id": "e5951e938f53485798bfb28f2a21e73c",
       "version_major": 2,
       "version_minor": 0
      },
      "text/plain": [
       "2022-03-01: 0rows [00:00, ?rows/s]"
      ]
     },
     "metadata": {},
     "output_type": "display_data"
    },
    {
     "data": {
      "application/vnd.jupyter.widget-view+json": {
       "model_id": "4320ed245dc841f19f7428ca05f690a4",
       "version_major": 2,
       "version_minor": 0
      },
      "text/plain": [
       "2022-04-01: 0rows [00:00, ?rows/s]"
      ]
     },
     "metadata": {},
     "output_type": "display_data"
    },
    {
     "data": {
      "application/vnd.jupyter.widget-view+json": {
       "model_id": "f59bf4e9e5cd4d708ae865be8b206fd9",
       "version_major": 2,
       "version_minor": 0
      },
      "text/plain": [
       "2022-05-01: 0rows [00:00, ?rows/s]"
      ]
     },
     "metadata": {},
     "output_type": "display_data"
    },
    {
     "data": {
      "application/vnd.jupyter.widget-view+json": {
       "model_id": "bf151d23d6c144b5a84e95cea85e5241",
       "version_major": 2,
       "version_minor": 0
      },
      "text/plain": [
       "2022-06-01: 0rows [00:00, ?rows/s]"
      ]
     },
     "metadata": {},
     "output_type": "display_data"
    },
    {
     "data": {
      "application/vnd.jupyter.widget-view+json": {
       "model_id": "5874433b02dc4cc08869e39571677354",
       "version_major": 2,
       "version_minor": 0
      },
      "text/plain": [
       "2022-07-01: 0rows [00:00, ?rows/s]"
      ]
     },
     "metadata": {},
     "output_type": "display_data"
    },
    {
     "data": {
      "application/vnd.jupyter.widget-view+json": {
       "model_id": "660f85dea75f45ada9626fb81a024438",
       "version_major": 2,
       "version_minor": 0
      },
      "text/plain": [
       "2022-08-01: 0rows [00:00, ?rows/s]"
      ]
     },
     "metadata": {},
     "output_type": "display_data"
    },
    {
     "data": {
      "application/vnd.jupyter.widget-view+json": {
       "model_id": "91d24277096b4fb9bdeabb3e6cb2d0d6",
       "version_major": 2,
       "version_minor": 0
      },
      "text/plain": [
       "2022-09-01: 0rows [00:00, ?rows/s]"
      ]
     },
     "metadata": {},
     "output_type": "display_data"
    },
    {
     "data": {
      "application/vnd.jupyter.widget-view+json": {
       "model_id": "83ce69f42b6c4697869d388ac08302fe",
       "version_major": 2,
       "version_minor": 0
      },
      "text/plain": [
       "2022-10-01: 0rows [00:00, ?rows/s]"
      ]
     },
     "metadata": {},
     "output_type": "display_data"
    },
    {
     "data": {
      "application/vnd.jupyter.widget-view+json": {
       "model_id": "188883ea5db94965be31b56728da3a42",
       "version_major": 2,
       "version_minor": 0
      },
      "text/plain": [
       "2022-11-01: 0rows [00:00, ?rows/s]"
      ]
     },
     "metadata": {},
     "output_type": "display_data"
    },
    {
     "data": {
      "application/vnd.jupyter.widget-view+json": {
       "model_id": "aaa84e4546064ac2b0e8453e6e27ddb3",
       "version_major": 2,
       "version_minor": 0
      },
      "text/plain": [
       "2022-12-01: 0rows [00:00, ?rows/s]"
      ]
     },
     "metadata": {},
     "output_type": "display_data"
    },
    {
     "data": {
      "application/vnd.jupyter.widget-view+json": {
       "model_id": "ea657e3f731d4ff39c043c91b30e305d",
       "version_major": 2,
       "version_minor": 0
      },
      "text/plain": [
       "2023-01-01: 0rows [00:00, ?rows/s]"
      ]
     },
     "metadata": {},
     "output_type": "display_data"
    },
    {
     "data": {
      "application/vnd.jupyter.widget-view+json": {
       "model_id": "911c1b039cc643808ff35f255060afdb",
       "version_major": 2,
       "version_minor": 0
      },
      "text/plain": [
       "2023-02-01: 0rows [00:00, ?rows/s]"
      ]
     },
     "metadata": {},
     "output_type": "display_data"
    },
    {
     "data": {
      "application/vnd.jupyter.widget-view+json": {
       "model_id": "390e33a608bb41ce835486abefce3b96",
       "version_major": 2,
       "version_minor": 0
      },
      "text/plain": [
       "2023-03-01: 0rows [00:00, ?rows/s]"
      ]
     },
     "metadata": {},
     "output_type": "display_data"
    },
    {
     "data": {
      "application/vnd.jupyter.widget-view+json": {
       "model_id": "d8d721b700ab4d3ba017a4e011783b8d",
       "version_major": 2,
       "version_minor": 0
      },
      "text/plain": [
       "2023-04-01: 0rows [00:00, ?rows/s]"
      ]
     },
     "metadata": {},
     "output_type": "display_data"
    },
    {
     "name": "stdout",
     "output_type": "stream",
     "text": [
      "Total filas descargadas: 68352\n"
     ]
    }
   ],
   "source": [
    "t0, t1 = dt.date(2021, 5, 21), dt.date(2023, 4, 30)\n",
    "step   = dt.timedelta(days=31)\n",
    "\n",
    "frames = []\n",
    "for cur in tqdm(pd.date_range(t0, t1, freq=\"MS\"), desc=\"Meses\", unit=\"mes\"):\n",
    "    nxt = min(cur.date()+step, t1+dt.timedelta(days=1))\n",
    "    with tqdm(total=0, desc=str(cur.date()), unit=\"rows\", leave=False) as pb:\n",
    "        df = fetch_interval(cur.date().isoformat(), nxt.isoformat(), batch=100, pbar=pb)\n",
    "    if not df.empty:\n",
    "        frames.append(df)\n",
    "\n",
    "raw = pd.concat(frames, ignore_index=True)\n",
    "print(\"Total filas descargadas:\", len(raw))"
   ]
  },
  {
   "cell_type": "code",
   "execution_count": 79,
   "id": "49ac6d28",
   "metadata": {},
   "outputs": [
    {
     "name": "stdout",
     "output_type": "stream",
     "text": [
      "CSV diario guardado en: C:\\Users\\frolo\\Documentos\\PythonProjects\\volatility-spillovers\\data\\generation_data\\eco2mix_FR_daily_20210521_20230430.csv\n"
     ]
    },
    {
     "data": {
      "text/html": [
       "<div>\n",
       "<style scoped>\n",
       "    .dataframe tbody tr th:only-of-type {\n",
       "        vertical-align: middle;\n",
       "    }\n",
       "\n",
       "    .dataframe tbody tr th {\n",
       "        vertical-align: top;\n",
       "    }\n",
       "\n",
       "    .dataframe thead th {\n",
       "        text-align: right;\n",
       "    }\n",
       "</style>\n",
       "<table border=\"1\" class=\"dataframe\">\n",
       "  <thead>\n",
       "    <tr style=\"text-align: right;\">\n",
       "      <th></th>\n",
       "      <th>date</th>\n",
       "      <th>consommation</th>\n",
       "      <th>eolien</th>\n",
       "      <th>solaire</th>\n",
       "      <th>hydraulique_fil_eau_eclusee</th>\n",
       "      <th>hydraulique_lacs</th>\n",
       "      <th>hydraulique_step_turbinage</th>\n",
       "      <th>gaz_tac</th>\n",
       "      <th>gaz_cogen</th>\n",
       "      <th>gaz_ccg</th>\n",
       "      <th>...</th>\n",
       "      <th>fioul_tac</th>\n",
       "      <th>fioul_cogen</th>\n",
       "      <th>fioul_autres</th>\n",
       "      <th>charbon</th>\n",
       "      <th>nucleaire</th>\n",
       "      <th>bioenergies_dechets</th>\n",
       "      <th>bioenergies_biogaz</th>\n",
       "      <th>bioenergies_biomasse</th>\n",
       "      <th>ech_physiques</th>\n",
       "      <th>taux_co2</th>\n",
       "    </tr>\n",
       "  </thead>\n",
       "  <tbody>\n",
       "    <tr>\n",
       "      <th>0</th>\n",
       "      <td>2021-05-31</td>\n",
       "      <td>84492.0</td>\n",
       "      <td>10192.0</td>\n",
       "      <td>0.5</td>\n",
       "      <td>11297.5</td>\n",
       "      <td>4466.0</td>\n",
       "      <td>859.0</td>\n",
       "      <td>78.5</td>\n",
       "      <td>416.5</td>\n",
       "      <td>1954.5</td>\n",
       "      <td>...</td>\n",
       "      <td>0.0</td>\n",
       "      <td>140.0</td>\n",
       "      <td>8.0</td>\n",
       "      <td>42.0</td>\n",
       "      <td>78336.0</td>\n",
       "      <td>927.5</td>\n",
       "      <td>667.0</td>\n",
       "      <td>583.5</td>\n",
       "      <td>-24818.0</td>\n",
       "      <td>27.5</td>\n",
       "    </tr>\n",
       "    <tr>\n",
       "      <th>1</th>\n",
       "      <td>2021-06-01</td>\n",
       "      <td>1085469.5</td>\n",
       "      <td>88630.5</td>\n",
       "      <td>54730.0</td>\n",
       "      <td>136072.5</td>\n",
       "      <td>57664.0</td>\n",
       "      <td>12149.5</td>\n",
       "      <td>892.0</td>\n",
       "      <td>5047.0</td>\n",
       "      <td>26483.5</td>\n",
       "      <td>...</td>\n",
       "      <td>1234.0</td>\n",
       "      <td>1679.5</td>\n",
       "      <td>63.5</td>\n",
       "      <td>423.0</td>\n",
       "      <td>941141.5</td>\n",
       "      <td>10588.5</td>\n",
       "      <td>7992.5</td>\n",
       "      <td>7327.0</td>\n",
       "      <td>-257690.5</td>\n",
       "      <td>358.5</td>\n",
       "    </tr>\n",
       "    <tr>\n",
       "      <th>2</th>\n",
       "      <td>2021-06-02</td>\n",
       "      <td>1093273.5</td>\n",
       "      <td>63573.0</td>\n",
       "      <td>45369.5</td>\n",
       "      <td>137162.0</td>\n",
       "      <td>55874.5</td>\n",
       "      <td>12482.0</td>\n",
       "      <td>874.5</td>\n",
       "      <td>4965.5</td>\n",
       "      <td>11817.5</td>\n",
       "      <td>...</td>\n",
       "      <td>0.0</td>\n",
       "      <td>1682.5</td>\n",
       "      <td>59.0</td>\n",
       "      <td>304.5</td>\n",
       "      <td>950948.5</td>\n",
       "      <td>10621.0</td>\n",
       "      <td>8056.5</td>\n",
       "      <td>7445.0</td>\n",
       "      <td>-204035.5</td>\n",
       "      <td>265.0</td>\n",
       "    </tr>\n",
       "    <tr>\n",
       "      <th>3</th>\n",
       "      <td>2021-06-03</td>\n",
       "      <td>1094528.5</td>\n",
       "      <td>29498.5</td>\n",
       "      <td>50195.0</td>\n",
       "      <td>135378.0</td>\n",
       "      <td>57652.0</td>\n",
       "      <td>14897.0</td>\n",
       "      <td>1109.5</td>\n",
       "      <td>5502.0</td>\n",
       "      <td>14384.0</td>\n",
       "      <td>...</td>\n",
       "      <td>0.0</td>\n",
       "      <td>1616.0</td>\n",
       "      <td>54.5</td>\n",
       "      <td>316.0</td>\n",
       "      <td>939395.5</td>\n",
       "      <td>10798.0</td>\n",
       "      <td>7960.0</td>\n",
       "      <td>7479.5</td>\n",
       "      <td>-171069.0</td>\n",
       "      <td>292.5</td>\n",
       "    </tr>\n",
       "    <tr>\n",
       "      <th>4</th>\n",
       "      <td>2021-06-04</td>\n",
       "      <td>1081319.0</td>\n",
       "      <td>41995.0</td>\n",
       "      <td>35346.5</td>\n",
       "      <td>144818.0</td>\n",
       "      <td>61732.5</td>\n",
       "      <td>17924.5</td>\n",
       "      <td>1056.0</td>\n",
       "      <td>5761.0</td>\n",
       "      <td>42506.5</td>\n",
       "      <td>...</td>\n",
       "      <td>0.0</td>\n",
       "      <td>1643.5</td>\n",
       "      <td>54.0</td>\n",
       "      <td>284.0</td>\n",
       "      <td>946171.5</td>\n",
       "      <td>10876.0</td>\n",
       "      <td>8074.5</td>\n",
       "      <td>7516.5</td>\n",
       "      <td>-235325.5</td>\n",
       "      <td>452.5</td>\n",
       "    </tr>\n",
       "  </tbody>\n",
       "</table>\n",
       "<p>5 rows × 21 columns</p>\n",
       "</div>"
      ],
      "text/plain": [
       "         date  consommation   eolien  solaire  hydraulique_fil_eau_eclusee  \\\n",
       "0  2021-05-31       84492.0  10192.0      0.5                      11297.5   \n",
       "1  2021-06-01     1085469.5  88630.5  54730.0                     136072.5   \n",
       "2  2021-06-02     1093273.5  63573.0  45369.5                     137162.0   \n",
       "3  2021-06-03     1094528.5  29498.5  50195.0                     135378.0   \n",
       "4  2021-06-04     1081319.0  41995.0  35346.5                     144818.0   \n",
       "\n",
       "   hydraulique_lacs  hydraulique_step_turbinage  gaz_tac  gaz_cogen  gaz_ccg  \\\n",
       "0            4466.0                       859.0     78.5      416.5   1954.5   \n",
       "1           57664.0                     12149.5    892.0     5047.0  26483.5   \n",
       "2           55874.5                     12482.0    874.5     4965.5  11817.5   \n",
       "3           57652.0                     14897.0   1109.5     5502.0  14384.0   \n",
       "4           61732.5                     17924.5   1056.0     5761.0  42506.5   \n",
       "\n",
       "   ...  fioul_tac  fioul_cogen  fioul_autres  charbon  nucleaire  \\\n",
       "0  ...        0.0        140.0           8.0     42.0    78336.0   \n",
       "1  ...     1234.0       1679.5          63.5    423.0   941141.5   \n",
       "2  ...        0.0       1682.5          59.0    304.5   950948.5   \n",
       "3  ...        0.0       1616.0          54.5    316.0   939395.5   \n",
       "4  ...        0.0       1643.5          54.0    284.0   946171.5   \n",
       "\n",
       "   bioenergies_dechets  bioenergies_biogaz  bioenergies_biomasse  \\\n",
       "0                927.5               667.0                 583.5   \n",
       "1              10588.5              7992.5                7327.0   \n",
       "2              10621.0              8056.5                7445.0   \n",
       "3              10798.0              7960.0                7479.5   \n",
       "4              10876.0              8074.5                7516.5   \n",
       "\n",
       "   ech_physiques  taux_co2  \n",
       "0       -24818.0      27.5  \n",
       "1      -257690.5     358.5  \n",
       "2      -204035.5     265.0  \n",
       "3      -171069.0     292.5  \n",
       "4      -235325.5     452.5  \n",
       "\n",
       "[5 rows x 21 columns]"
      ]
     },
     "execution_count": 79,
     "metadata": {},
     "output_type": "execute_result"
    }
   ],
   "source": [
    "raw[\"date_heure\"] = pd.to_datetime(raw[\"date_heure\"], utc=True, errors=\"coerce\")\n",
    "\n",
    "# --- filtrar medias horas --------------------------------------\n",
    "good = raw[raw[\"date_heure\"].dt.minute.isin([0, 30])].copy()\n",
    "\n",
    "# --- detectar columnas numéricas -------------------------------\n",
    "num_cols = good.columns.difference([\"date_heure\", \"perimetre\", \"nature\"])\n",
    "\n",
    "# 1) convertir a numérico forzando errores a NaN\n",
    "good[num_cols] = good[num_cols].apply(pd.to_numeric, errors=\"coerce\")\n",
    "\n",
    "# 2) potencia MW → energía MWh (30 min = 0.5 h)\n",
    "good[num_cols] *= 0.5\n",
    "\n",
    "# --- agregar a diario ------------------------------------------\n",
    "good[\"date\"] = good[\"date_heure\"].dt.date\n",
    "daily = (good\n",
    "         .drop(columns=\"date_heure\")\n",
    "         .groupby(\"date\", as_index=False)\n",
    "         .sum(numeric_only=True))\n",
    "\n",
    "# --- guardar ----------------------------------------------------\n",
    "out_path = Path(\"..\") / \"data\" / \"generation_data\" / \"eco2mix_FR_daily_20210521_20230430.csv\"\n",
    "out_path.parent.mkdir(parents=True, exist_ok=True)\n",
    "daily.to_csv(out_path, index=False, encoding=\"utf-8\")\n",
    "\n",
    "print(\"CSV diario guardado en:\", out_path.resolve())\n",
    "daily.head()\n"
   ]
  },
  {
   "cell_type": "markdown",
   "id": "5e8aac39",
   "metadata": {},
   "source": [
    "## Table with all markets\n",
    "\n",
    "This is a table for showing the electricity mix for all the markets."
   ]
  }
 ],
 "metadata": {
  "kernelspec": {
   "display_name": "Python 3",
   "language": "python",
   "name": "python3"
  },
  "language_info": {
   "codemirror_mode": {
    "name": "ipython",
    "version": 3
   },
   "file_extension": ".py",
   "mimetype": "text/x-python",
   "name": "python",
   "nbconvert_exporter": "python",
   "pygments_lexer": "ipython3",
   "version": "3.10.11"
  }
 },
 "nbformat": 4,
 "nbformat_minor": 5
}
