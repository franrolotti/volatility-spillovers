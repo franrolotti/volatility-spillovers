{
 "cells": [
  {
   "cell_type": "markdown",
   "metadata": {},
   "source": [
    " # Volatility Spillover Analysis Using VAR on PIT-Transformed Covariances\n",
    "\n",
    "\n",
    "\n",
    " This notebook loads the PIT-transformed vectorized realized covariances (vech format),\n",
    "\n",
    " fits a VAR model, and computes the generalized forecast error variance decomposition (GVD),\n",
    "\n",
    " including both variances and covariances in the spillover structure."
   ]
  },
  {
   "cell_type": "code",
   "execution_count": null,
   "metadata": {},
   "outputs": [],
   "source": [
    "import pandas as pd\n",
    "import numpy as np\n",
    "from statsmodels.tsa.api import VAR\n",
    "import matplotlib.pyplot as plt\n",
    "import seaborn as sns\n",
    "import ipywidgets as widgets\n",
    "from IPython.display import display, clear_output, Markdown\n"
   ]
  },
  {
   "cell_type": "markdown",
   "metadata": {},
   "source": [
    " ## Step 1: Select and Load PIT-transformed vech Dataset"
   ]
  },
  {
   "cell_type": "code",
   "execution_count": null,
   "metadata": {},
   "outputs": [],
   "source": [
    "option_selector = widgets.Dropdown(\n",
    "    options=['europe', 'australia'],\n",
    "    value='europe',\n",
    "    description='Dataset:',\n",
    ")\n",
    "button = widgets.Button(description=\"Load Dataset\", button_style='success', icon='check')\n",
    "\n",
    "def on_button_click(b):\n",
    "    global pit_vech\n",
    "    clear_output(wait=True)\n",
    "    display(option_selector, button)\n",
    "    selected_option = option_selector.value\n",
    "    file_path = f\"parquet_files/pit_transformed_vech_{selected_option}.parquet\"\n",
    "    try:\n",
    "        pit_vech = pd.read_parquet(file_path)\n",
    "        print(f\"✅ Loaded: {file_path}\")\n",
    "        display(pit_vech.head())\n",
    "    except Exception as e:\n",
    "        print(f\"❌ Failed to load: {e}\")\n",
    "\n",
    "button.on_click(on_button_click)\n",
    "display(option_selector, button)\n"
   ]
  },
  {
   "cell_type": "markdown",
   "metadata": {},
   "source": [
    " ## Step 2: Fit VAR(p) Model"
   ]
  },
  {
   "cell_type": "code",
   "execution_count": null,
   "metadata": {},
   "outputs": [],
   "source": [
    "p = 30\n",
    "model = VAR(pit_vech)\n",
    "results = model.fit(p)\n",
    "Phi = results.coefs  # shape (p, N, N)\n",
    "Sigma = results.sigma_u  # residual covariance matrix\n",
    "N = Sigma.shape[0]\n",
    "H = 1\n"
   ]
  },
  {
   "cell_type": "markdown",
   "metadata": {},
   "source": [
    " ## Step 3: Compute Moving Average Coefficients A_h"
   ]
  },
  {
   "cell_type": "code",
   "execution_count": null,
   "metadata": {},
   "outputs": [],
   "source": [
    "A = [np.eye(N)]\n",
    "for h in range(1, H):\n",
    "    A_h = np.zeros((N, N))\n",
    "    for j in range(1, min(h, p)+1):\n",
    "        A_h += Phi[j-1] @ A[h-j]\n",
    "    A.append(A_h)\n"
   ]
  },
  {
   "cell_type": "markdown",
   "metadata": {},
   "source": [
    " ## Step 4: Compute Generalized Variance Decomposition (GVD)"
   ]
  },
  {
   "cell_type": "code",
   "execution_count": null,
   "metadata": {},
   "outputs": [],
   "source": [
    "theta_g = np.zeros((N, N))\n",
    "sigma_diag_inv = np.diag(1 / np.diag(Sigma))\n",
    "\n",
    "for i in range(N):\n",
    "    e_i = np.zeros(N)\n",
    "    e_i[i] = 1\n",
    "    denom = sum([e_i @ A[h] @ Sigma @ A[h].T @ e_i for h in range(H)])\n",
    "    for j in range(N):\n",
    "        e_j = np.zeros(N)\n",
    "        e_j[j] = 1\n",
    "        numer = sum([(e_i @ A[h] @ Sigma @ e_j)**2 for h in range(H)])\n",
    "        theta_g[i, j] = sigma_diag_inv[j, j] * numer / denom\n",
    "\n",
    "# Normalize row-wise\n",
    "theta_g_normalized = theta_g / theta_g.sum(axis=1, keepdims=True)\n"
   ]
  },
  {
   "cell_type": "markdown",
   "metadata": {},
   "source": [
    " ## Step 5: Compute Total Spillover Index (TSI)"
   ]
  },
  {
   "cell_type": "code",
   "execution_count": null,
   "metadata": {},
   "outputs": [],
   "source": [
    "TSI = 100 * (np.sum(theta_g_normalized) - np.trace(theta_g_normalized)) / N\n",
    "print(f\"Total Spillover Index (TSI) at horizon {H}: {TSI:.2f}%\")\n",
    "\n",
    "\n"
   ]
  },
  {
   "cell_type": "markdown",
   "metadata": {},
   "source": [
    " ## Step 6: Compute Directional and Net Spillovers"
   ]
  },
  {
   "cell_type": "code",
   "execution_count": null,
   "metadata": {},
   "outputs": [],
   "source": [
    "# Convert GVD matrix to percent\n",
    "spillover_matrix = theta_g_normalized * 100\n",
    "\n",
    "# Directional spillovers\n",
    "directional_to = spillover_matrix.sum(axis=1) - np.diag(spillover_matrix)\n",
    "directional_from = spillover_matrix.sum(axis=0) - np.diag(spillover_matrix)\n",
    "net_directional = directional_to - directional_from\n",
    "\n",
    "# Construct spillover table\n",
    "spillover_table = pd.DataFrame(spillover_matrix,\n",
    "                               index=pit_vech.columns,\n",
    "                               columns=pit_vech.columns)\n",
    "spillover_table[\"Directional FROM others\"] = directional_from\n",
    "spillover_table.loc[\"Directional TO others\"] = list(directional_to) + [directional_to.sum()]\n",
    "spillover_table.loc[\"NET Directional\"] = list(net_directional) + [np.nan]\n"
   ]
  },
  {
   "cell_type": "markdown",
   "metadata": {},
   "source": [
    " ## Step 7: Save Spillover Table"
   ]
  },
  {
   "cell_type": "code",
   "execution_count": null,
   "metadata": {},
   "outputs": [],
   "source": [
    "spillover_table.to_parquet(f\"parquet_files/volatility_spillovers_VAR_fullcov_{option_selector.value}.parquet\")\n"
   ]
  },
  {
   "cell_type": "markdown",
   "metadata": {},
   "source": [
    " ## Step 8: Display Final Spillover Table with Caption"
   ]
  },
  {
   "cell_type": "code",
   "execution_count": null,
   "metadata": {},
   "outputs": [],
   "source": [
    "display_table = spillover_table.round(2)\n",
    "\n",
    "try:\n",
    "    caption = f\"\"\"\n",
    "**Table X**: Spillovers based on VAR-GVD using PIT-transformed realized covariances (vech format).\n",
    "\n",
    "This table reports volatility spillovers across markets using a one-day forecast horizon VAR model fitted on vectorized PIT-transformed covariance matrices.\n",
    "The $ij$ element reflects the contribution of market $j$'s shocks to the forecast error variance of market $i$.\n",
    "Directional spillovers and Total Spillover Index (TSI) are computed as in Diebold and Yilmaz (2012).\n",
    "\n",
    "**TSI = {TSI:.2f}%**\n",
    "\"\"\"\n",
    "    display(display_table)\n",
    "    display(Markdown(caption))\n",
    "except Exception as e:\n",
    "    print(\"Failed to display table:\", e)\n",
    "    print(display_table)\n",
    "    print(f\"TSI = {TSI:.2f}%\")\n"
   ]
  }
 ],
 "metadata": {
  "language_info": {
   "codemirror_mode": {
    "name": "ipython",
    "version": 3
   },
   "file_extension": ".py",
   "mimetype": "text/x-python",
   "name": "python",
   "nbconvert_exporter": "python",
   "pygments_lexer": "ipython3",
   "version": 3
  }
 },
 "nbformat": 4,
 "nbformat_minor": 2
}
