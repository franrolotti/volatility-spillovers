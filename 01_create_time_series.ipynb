{
 "cells": [
  {
   "cell_type": "code",
   "execution_count": 1,
   "metadata": {},
   "outputs": [],
   "source": [
    "# Load libraries\n",
    "\n",
    "import pandas as pd\n",
    "import ipywidgets as widgets\n",
    "from IPython.display import display, clear_output\n",
    "import os\n",
    "import pandas as pd"
   ]
  },
  {
   "cell_type": "markdown",
   "metadata": {},
   "source": [
    " # Step 1: Load and Combine CSV Files\n",
    "\n",
    " **Goal:** Aggregate multiple CSV files of the electricity prices from various countries into a single DataFrame."
   ]
  },
  {
   "cell_type": "code",
   "execution_count": 2,
   "metadata": {},
   "outputs": [],
   "source": [
    "folder_path = 'data/spain_france_portugal'  # Directory containing the CSV files\n",
    "dfs = []  # List to store each individual DataFrame\n",
    "\n",
    "for filename in os.listdir(folder_path):\n",
    "    if filename.endswith('.csv'):\n",
    "        file_path = os.path.join(folder_path, filename)\n",
    "        df = pd.read_csv(file_path)\n",
    "        dfs.append(df)\n",
    "\n",
    "combined_df = pd.concat(dfs, ignore_index=True)\n"
   ]
  },
  {
   "cell_type": "code",
   "execution_count": null,
   "metadata": {},
   "outputs": [
    {
     "data": {
      "application/vnd.jupyter.widget-view+json": {
       "model_id": "6729c37cadf640a0846a97eb8db763e3",
       "version_major": 2,
       "version_minor": 0
      },
      "text/plain": [
       "Dropdown(description='Dataset:', index=1, options=('europe', 'australia'), value='australia')"
      ]
     },
     "metadata": {},
     "output_type": "display_data"
    },
    {
     "data": {
      "application/vnd.jupyter.widget-view+json": {
       "model_id": "a07d18c350de407599af78708ba95fd0",
       "version_major": 2,
       "version_minor": 0
      },
      "text/plain": [
       "Button(button_style='success', description='Load Dataset', icon='check', style=ButtonStyle(), tooltip='Click t…"
      ]
     },
     "metadata": {},
     "output_type": "display_data"
    }
   ],
   "source": [
    "# --- Create dropdown ---\n",
    "option_selector = widgets.Dropdown(\n",
    "    options=['europe', 'australia'],\n",
    "    value='europe',  # initial default\n",
    "    description='Dataset:',\n",
    "    disabled=False,\n",
    ")\n",
    "\n",
    "# --- Create button ---\n",
    "button = widgets.Button(\n",
    "    description=\"Load Dataset\",\n",
    "    button_style='success',  # 'success', 'info', 'warning', 'danger' or ''\n",
    "    tooltip='Click to load selected dataset',\n",
    "    icon='check'  # (optional) FontAwesome icon\n",
    ")\n",
    "\n",
    "# --- Define button click handler ---\n",
    "def on_button_click(b):\n",
    "    global combined_df\n",
    "    clear_output(wait=True)  # Clears previous output to keep it clean\n",
    "    display(option_selector, button)  # Re-display widgets after clear\n",
    "    \n",
    "    selected_option = option_selector.value\n",
    "    \n",
    "    if selected_option == 'europe':\n",
    "        # Example: create dummy combined_df\n",
    "        combined_df = combined_df.copy()\n",
    "        print(\"✅ Europe dataset selected (combined_df copied).\")\n",
    "        print(combined_df.head())\n",
    "    \n",
    "    elif selected_option == 'australia':\n",
    "        file_path = 'parquet_files/australia_data.parquet'\n",
    "        try:\n",
    "            combined_df = pd.read_parquet(file_path)\n",
    "            print(f\"✅ Australia dataset loaded from {file_path}.\")\n",
    "            print(combined_df.head())\n",
    "        except Exception as e:\n",
    "            print(f\"❌ Error loading Australia dataset: {e}\")\n",
    "\n",
    "# --- Attach button click handler ---\n",
    "button.on_click(on_button_click)\n",
    "\n",
    "# --- Display UI ---\n",
    "display(option_selector, button)\n"
   ]
  },
  {
   "cell_type": "code",
   "execution_count": 4,
   "metadata": {},
   "outputs": [
    {
     "data": {
      "text/html": [
       "<div>\n",
       "<style scoped>\n",
       "    .dataframe tbody tr th:only-of-type {\n",
       "        vertical-align: middle;\n",
       "    }\n",
       "\n",
       "    .dataframe tbody tr th {\n",
       "        vertical-align: top;\n",
       "    }\n",
       "\n",
       "    .dataframe thead th {\n",
       "        text-align: right;\n",
       "    }\n",
       "</style>\n",
       "<table border=\"1\" class=\"dataframe\">\n",
       "  <thead>\n",
       "    <tr style=\"text-align: right;\">\n",
       "      <th></th>\n",
       "      <th>MTU (CET/CEST)</th>\n",
       "      <th>Area</th>\n",
       "      <th>Sequence</th>\n",
       "      <th>Day-ahead Price (EUR/MWh)</th>\n",
       "    </tr>\n",
       "  </thead>\n",
       "  <tbody>\n",
       "    <tr>\n",
       "      <th>0</th>\n",
       "      <td>01/07/2009 00:00:00 - 01/07/2009 00:05:00</td>\n",
       "      <td>nsw</td>\n",
       "      <td>Without sequence</td>\n",
       "      <td>16.941263</td>\n",
       "    </tr>\n",
       "    <tr>\n",
       "      <th>1</th>\n",
       "      <td>01/07/2009 00:05:00 - 01/07/2009 00:10:00</td>\n",
       "      <td>nsw</td>\n",
       "      <td>Without sequence</td>\n",
       "      <td>17.709524</td>\n",
       "    </tr>\n",
       "    <tr>\n",
       "      <th>2</th>\n",
       "      <td>01/07/2009 00:10:00 - 01/07/2009 00:15:00</td>\n",
       "      <td>nsw</td>\n",
       "      <td>Without sequence</td>\n",
       "      <td>17.678644</td>\n",
       "    </tr>\n",
       "    <tr>\n",
       "      <th>3</th>\n",
       "      <td>01/07/2009 00:15:00 - 01/07/2009 00:20:00</td>\n",
       "      <td>nsw</td>\n",
       "      <td>Without sequence</td>\n",
       "      <td>16.736212</td>\n",
       "    </tr>\n",
       "    <tr>\n",
       "      <th>4</th>\n",
       "      <td>01/07/2009 00:20:00 - 01/07/2009 00:25:00</td>\n",
       "      <td>nsw</td>\n",
       "      <td>Without sequence</td>\n",
       "      <td>15.638840</td>\n",
       "    </tr>\n",
       "  </tbody>\n",
       "</table>\n",
       "</div>"
      ],
      "text/plain": [
       "                              MTU (CET/CEST) Area          Sequence  \\\n",
       "0  01/07/2009 00:00:00 - 01/07/2009 00:05:00  nsw  Without sequence   \n",
       "1  01/07/2009 00:05:00 - 01/07/2009 00:10:00  nsw  Without sequence   \n",
       "2  01/07/2009 00:10:00 - 01/07/2009 00:15:00  nsw  Without sequence   \n",
       "3  01/07/2009 00:15:00 - 01/07/2009 00:20:00  nsw  Without sequence   \n",
       "4  01/07/2009 00:20:00 - 01/07/2009 00:25:00  nsw  Without sequence   \n",
       "\n",
       "   Day-ahead Price (EUR/MWh)  \n",
       "0                  16.941263  \n",
       "1                  17.709524  \n",
       "2                  17.678644  \n",
       "3                  16.736212  \n",
       "4                  15.638840  "
      ]
     },
     "execution_count": 4,
     "metadata": {},
     "output_type": "execute_result"
    }
   ],
   "source": [
    "combined_df.head()"
   ]
  },
  {
   "cell_type": "markdown",
   "metadata": {},
   "source": [
    " # Step 2: Examine Columns and Rows in Combined Data\n",
    "\n",
    " **Goal:** Understand the structure of the merged dataset."
   ]
  },
  {
   "cell_type": "code",
   "execution_count": 5,
   "metadata": {},
   "outputs": [
    {
     "name": "stdout",
     "output_type": "stream",
     "text": [
      "The columns are:  ['MTU (CET/CEST)', 'Area', 'Sequence', 'Day-ahead Price (EUR/MWh)']\n",
      "Number of rows:  5083200\n"
     ]
    }
   ],
   "source": [
    "print('The columns are: ', [col for col in combined_df.columns])\n",
    "print('Number of rows: ', len(combined_df))\n"
   ]
  },
  {
   "cell_type": "markdown",
   "metadata": {},
   "source": [
    " # Step 3: Extract and Clean Start Times\n",
    "\n",
    " **Goal:** Parse the 'MTU (CET/CEST)' column to derive clean start datetime values."
   ]
  },
  {
   "cell_type": "code",
   "execution_count": 6,
   "metadata": {},
   "outputs": [
    {
     "data": {
      "text/html": [
       "<div>\n",
       "<style scoped>\n",
       "    .dataframe tbody tr th:only-of-type {\n",
       "        vertical-align: middle;\n",
       "    }\n",
       "\n",
       "    .dataframe tbody tr th {\n",
       "        vertical-align: top;\n",
       "    }\n",
       "\n",
       "    .dataframe thead th {\n",
       "        text-align: right;\n",
       "    }\n",
       "</style>\n",
       "<table border=\"1\" class=\"dataframe\">\n",
       "  <thead>\n",
       "    <tr style=\"text-align: right;\">\n",
       "      <th></th>\n",
       "      <th>MTU (CET/CEST)</th>\n",
       "      <th>Area</th>\n",
       "      <th>Sequence</th>\n",
       "      <th>Day-ahead Price (EUR/MWh)</th>\n",
       "      <th>Start DateTime</th>\n",
       "    </tr>\n",
       "  </thead>\n",
       "  <tbody>\n",
       "    <tr>\n",
       "      <th>0</th>\n",
       "      <td>01/07/2009 00:00:00 - 01/07/2009 00:05:00</td>\n",
       "      <td>nsw</td>\n",
       "      <td>Without sequence</td>\n",
       "      <td>16.941263</td>\n",
       "      <td>2009-07-01 00:00:00</td>\n",
       "    </tr>\n",
       "    <tr>\n",
       "      <th>1</th>\n",
       "      <td>01/07/2009 00:05:00 - 01/07/2009 00:10:00</td>\n",
       "      <td>nsw</td>\n",
       "      <td>Without sequence</td>\n",
       "      <td>17.709524</td>\n",
       "      <td>2009-07-01 00:05:00</td>\n",
       "    </tr>\n",
       "    <tr>\n",
       "      <th>2</th>\n",
       "      <td>01/07/2009 00:10:00 - 01/07/2009 00:15:00</td>\n",
       "      <td>nsw</td>\n",
       "      <td>Without sequence</td>\n",
       "      <td>17.678644</td>\n",
       "      <td>2009-07-01 00:10:00</td>\n",
       "    </tr>\n",
       "    <tr>\n",
       "      <th>3</th>\n",
       "      <td>01/07/2009 00:15:00 - 01/07/2009 00:20:00</td>\n",
       "      <td>nsw</td>\n",
       "      <td>Without sequence</td>\n",
       "      <td>16.736212</td>\n",
       "      <td>2009-07-01 00:15:00</td>\n",
       "    </tr>\n",
       "    <tr>\n",
       "      <th>4</th>\n",
       "      <td>01/07/2009 00:20:00 - 01/07/2009 00:25:00</td>\n",
       "      <td>nsw</td>\n",
       "      <td>Without sequence</td>\n",
       "      <td>15.638840</td>\n",
       "      <td>2009-07-01 00:20:00</td>\n",
       "    </tr>\n",
       "  </tbody>\n",
       "</table>\n",
       "</div>"
      ],
      "text/plain": [
       "                              MTU (CET/CEST) Area          Sequence  \\\n",
       "0  01/07/2009 00:00:00 - 01/07/2009 00:05:00  nsw  Without sequence   \n",
       "1  01/07/2009 00:05:00 - 01/07/2009 00:10:00  nsw  Without sequence   \n",
       "2  01/07/2009 00:10:00 - 01/07/2009 00:15:00  nsw  Without sequence   \n",
       "3  01/07/2009 00:15:00 - 01/07/2009 00:20:00  nsw  Without sequence   \n",
       "4  01/07/2009 00:20:00 - 01/07/2009 00:25:00  nsw  Without sequence   \n",
       "\n",
       "   Day-ahead Price (EUR/MWh)      Start DateTime  \n",
       "0                  16.941263 2009-07-01 00:00:00  \n",
       "1                  17.709524 2009-07-01 00:05:00  \n",
       "2                  17.678644 2009-07-01 00:10:00  \n",
       "3                  16.736212 2009-07-01 00:15:00  \n",
       "4                  15.638840 2009-07-01 00:20:00  "
      ]
     },
     "execution_count": 6,
     "metadata": {},
     "output_type": "execute_result"
    }
   ],
   "source": [
    "start_times = combined_df['MTU (CET/CEST)'].str.split(' - ').str[0]\n",
    "start_times_clean = start_times.str.replace(r' \\(CET\\)| \\(CEST\\)', '', regex=True)\n",
    "combined_df['Start DateTime'] = pd.to_datetime(start_times_clean, dayfirst=True)\n",
    "combined_df.head()\n"
   ]
  },
  {
   "cell_type": "markdown",
   "metadata": {},
   "source": [
    " # Step 4: Filter Data by Time Interval\n",
    "\n",
    " **Goal:** Keep only rows that fall within the desired datetime range."
   ]
  },
  {
   "cell_type": "code",
   "execution_count": 7,
   "metadata": {},
   "outputs": [
    {
     "name": "stdout",
     "output_type": "stream",
     "text": [
      "0   2009-07-01 00:00:00\n",
      "1   2009-07-01 00:05:00\n",
      "2   2009-07-01 00:10:00\n",
      "3   2009-07-01 00:15:00\n",
      "4   2009-07-01 00:20:00\n",
      "Name: Start DateTime, dtype: datetime64[ns]\n",
      "5083195   2019-02-28 23:35:00\n",
      "5083196   2019-02-28 23:40:00\n",
      "5083197   2019-02-28 23:45:00\n",
      "5083198   2019-02-28 23:50:00\n",
      "5083199   2019-02-28 23:55:00\n",
      "Name: Start DateTime, dtype: datetime64[ns]\n"
     ]
    }
   ],
   "source": [
    "if option_selector.value == 'australia':\n",
    "    filtered_df = combined_df.copy()\n",
    "    print(filtered_df['Start DateTime'].head(5))\n",
    "    print(filtered_df['Start DateTime'].tail(5))\n",
    "else:\n",
    "    start_date = pd.to_datetime('2021-05-21')  # Lower bound for filtering\n",
    "    end_date = pd.to_datetime('2025-05-01')    # Upper bound (exclusive)\n",
    "    filtered_df = combined_df[(combined_df['Start DateTime'] >= start_date) & (combined_df['Start DateTime'] < end_date)]\n",
    "    print(filtered_df['Start DateTime'].head(5))\n",
    "    print(filtered_df['Start DateTime'].tail(5))\n"
   ]
  },
  {
   "cell_type": "markdown",
   "metadata": {},
   "source": [
    " # Step 5: Detect Irregular Time Intervals\n",
    "\n",
    "Identify gaps or anomalies in the hourly data sequence grouped by Area and Sequence.  These datetimes are like this because of the Daylight Saving Time (DST)."
   ]
  },
  {
   "cell_type": "code",
   "execution_count": 11,
   "metadata": {},
   "outputs": [
    {
     "name": "stdout",
     "output_type": "stream",
     "text": [
      "Empty DataFrame\n",
      "Columns: [Area, Sequence, Start DateTime, TimeDiff]\n",
      "Index: []\n",
      "<TimedeltaArray>\n",
      "[]\n",
      "Length: 0, dtype: timedelta64[ns]\n"
     ]
    }
   ],
   "source": [
    "if option_selector.value == 'australia':\n",
    "    minutes = 5\n",
    "else:\n",
    "    minutes = 60\n",
    "\n",
    "filtered_df = filtered_df.sort_values(['Area', 'Sequence', 'Start DateTime']).reset_index(drop=True)\n",
    "filtered_df['TimeDiff'] = filtered_df.groupby(['Area', 'Sequence'])['Start DateTime'].diff()\n",
    "filtered_df['NonHourly'] = (filtered_df['TimeDiff'] != pd.Timedelta(minutes=minutes)) & (~filtered_df['TimeDiff'].isna())\n",
    "\n",
    "problem_indices = filtered_df.index[filtered_df['NonHourly']]\n",
    "context_indices = problem_indices.union(problem_indices - 1)\n",
    "\n",
    "irregular_context = filtered_df.loc[context_indices].sort_values(['Area', 'Sequence', 'Start DateTime'])\n",
    "print(irregular_context[['Area', 'Sequence', 'Start DateTime', 'TimeDiff']].head(10))\n",
    "print(irregular_context['TimeDiff'].unique())\n"
   ]
  },
  {
   "cell_type": "markdown",
   "metadata": {},
   "source": [
    " # Step 6: Export Filtered Data\n",
    "\n",
    "Save the cleaned and validated dataset to a Parquet file for further use."
   ]
  },
  {
   "cell_type": "code",
   "execution_count": 12,
   "metadata": {},
   "outputs": [],
   "source": [
    "if option_selector.value == 'australia':\n",
    "    filtered_df.to_parquet('parquet_files/filtered_data_australia.parquet', index=False)\n",
    "else:\n",
    "    filtered_df.to_parquet('parquet_files/filtered_data.parquet', index=False)"
   ]
  }
 ],
 "metadata": {
  "kernelspec": {
   "display_name": "Python 3",
   "language": "python",
   "name": "python3"
  },
  "language_info": {
   "codemirror_mode": {
    "name": "ipython",
    "version": 3
   },
   "file_extension": ".py",
   "mimetype": "text/x-python",
   "name": "python",
   "nbconvert_exporter": "python",
   "pygments_lexer": "ipython3",
   "version": "3.10.11"
  }
 },
 "nbformat": 4,
 "nbformat_minor": 2
}
