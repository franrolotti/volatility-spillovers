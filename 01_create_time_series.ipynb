{
 "cells": [
  {
   "cell_type": "markdown",
   "metadata": {},
   "source": [
    " # Step 1: Load and Combine CSV Files\n",
    "\n",
    " **Goal:** Aggregate multiple CSV files of the electricity prices from various countries into a single DataFrame."
   ]
  },
  {
   "cell_type": "code",
   "execution_count": 22,
   "metadata": {},
   "outputs": [],
   "source": [
    "import os\n",
    "import pandas as pd\n",
    "\n",
    "folder_path = 'data'  # Directory containing the CSV files\n",
    "dfs = []  # List to store each individual DataFrame\n",
    "\n",
    "for filename in os.listdir(folder_path):\n",
    "    if filename.endswith('.csv'):\n",
    "        file_path = os.path.join(folder_path, filename)\n",
    "        df = pd.read_csv(file_path)\n",
    "        dfs.append(df)\n",
    "\n",
    "combined_df = pd.concat(dfs, ignore_index=True)\n"
   ]
  },
  {
   "cell_type": "markdown",
   "metadata": {},
   "source": [
    " # Step 2: Examine Columns and Rows in Combined Data\n",
    "\n",
    " **Goal:** Understand the structure of the merged dataset."
   ]
  },
  {
   "cell_type": "code",
   "execution_count": 23,
   "metadata": {},
   "outputs": [
    {
     "name": "stdout",
     "output_type": "stream",
     "text": [
      "The columns are:  ['MTU (CET/CEST)', 'Area', 'Sequence', 'Day-ahead Price (EUR/MWh)', 'Intraday Period (CET/CEST)', 'Intraday Price (EUR/MWh)']\n",
      "Number of rows:  115485\n"
     ]
    }
   ],
   "source": [
    "print('The columns are: ', [col for col in combined_df.columns])\n",
    "print('Number of rows: ', len(combined_df))\n"
   ]
  },
  {
   "cell_type": "markdown",
   "metadata": {},
   "source": [
    " # Step 3: Extract and Clean Start Times\n",
    "\n",
    " **Goal:** Parse the 'MTU (CET/CEST)' column to derive clean start datetime values."
   ]
  },
  {
   "cell_type": "code",
   "execution_count": 24,
   "metadata": {},
   "outputs": [
    {
     "data": {
      "text/html": [
       "<div>\n",
       "<style scoped>\n",
       "    .dataframe tbody tr th:only-of-type {\n",
       "        vertical-align: middle;\n",
       "    }\n",
       "\n",
       "    .dataframe tbody tr th {\n",
       "        vertical-align: top;\n",
       "    }\n",
       "\n",
       "    .dataframe thead th {\n",
       "        text-align: right;\n",
       "    }\n",
       "</style>\n",
       "<table border=\"1\" class=\"dataframe\">\n",
       "  <thead>\n",
       "    <tr style=\"text-align: right;\">\n",
       "      <th></th>\n",
       "      <th>MTU (CET/CEST)</th>\n",
       "      <th>Area</th>\n",
       "      <th>Sequence</th>\n",
       "      <th>Day-ahead Price (EUR/MWh)</th>\n",
       "      <th>Intraday Period (CET/CEST)</th>\n",
       "      <th>Intraday Price (EUR/MWh)</th>\n",
       "      <th>Start DateTime</th>\n",
       "    </tr>\n",
       "  </thead>\n",
       "  <tbody>\n",
       "    <tr>\n",
       "      <th>0</th>\n",
       "      <td>01/01/2021 00:00:00 - 01/01/2021 01:00:00</td>\n",
       "      <td>BZN|ES</td>\n",
       "      <td>Without sequence</td>\n",
       "      <td>50.87</td>\n",
       "      <td>NaN</td>\n",
       "      <td>NaN</td>\n",
       "      <td>2021-01-01 00:00:00</td>\n",
       "    </tr>\n",
       "    <tr>\n",
       "      <th>1</th>\n",
       "      <td>01/01/2021 01:00:00 - 01/01/2021 02:00:00</td>\n",
       "      <td>BZN|ES</td>\n",
       "      <td>Without sequence</td>\n",
       "      <td>48.19</td>\n",
       "      <td>NaN</td>\n",
       "      <td>NaN</td>\n",
       "      <td>2021-01-01 01:00:00</td>\n",
       "    </tr>\n",
       "    <tr>\n",
       "      <th>2</th>\n",
       "      <td>01/01/2021 02:00:00 - 01/01/2021 03:00:00</td>\n",
       "      <td>BZN|ES</td>\n",
       "      <td>Without sequence</td>\n",
       "      <td>44.68</td>\n",
       "      <td>NaN</td>\n",
       "      <td>NaN</td>\n",
       "      <td>2021-01-01 02:00:00</td>\n",
       "    </tr>\n",
       "    <tr>\n",
       "      <th>3</th>\n",
       "      <td>01/01/2021 03:00:00 - 01/01/2021 04:00:00</td>\n",
       "      <td>BZN|ES</td>\n",
       "      <td>Without sequence</td>\n",
       "      <td>38.50</td>\n",
       "      <td>NaN</td>\n",
       "      <td>NaN</td>\n",
       "      <td>2021-01-01 03:00:00</td>\n",
       "    </tr>\n",
       "    <tr>\n",
       "      <th>4</th>\n",
       "      <td>01/01/2021 04:00:00 - 01/01/2021 05:00:00</td>\n",
       "      <td>BZN|ES</td>\n",
       "      <td>Without sequence</td>\n",
       "      <td>36.80</td>\n",
       "      <td>NaN</td>\n",
       "      <td>NaN</td>\n",
       "      <td>2021-01-01 04:00:00</td>\n",
       "    </tr>\n",
       "  </tbody>\n",
       "</table>\n",
       "</div>"
      ],
      "text/plain": [
       "                              MTU (CET/CEST)    Area          Sequence  \\\n",
       "0  01/01/2021 00:00:00 - 01/01/2021 01:00:00  BZN|ES  Without sequence   \n",
       "1  01/01/2021 01:00:00 - 01/01/2021 02:00:00  BZN|ES  Without sequence   \n",
       "2  01/01/2021 02:00:00 - 01/01/2021 03:00:00  BZN|ES  Without sequence   \n",
       "3  01/01/2021 03:00:00 - 01/01/2021 04:00:00  BZN|ES  Without sequence   \n",
       "4  01/01/2021 04:00:00 - 01/01/2021 05:00:00  BZN|ES  Without sequence   \n",
       "\n",
       "   Day-ahead Price (EUR/MWh)  Intraday Period (CET/CEST)  \\\n",
       "0                      50.87                         NaN   \n",
       "1                      48.19                         NaN   \n",
       "2                      44.68                         NaN   \n",
       "3                      38.50                         NaN   \n",
       "4                      36.80                         NaN   \n",
       "\n",
       "   Intraday Price (EUR/MWh)      Start DateTime  \n",
       "0                       NaN 2021-01-01 00:00:00  \n",
       "1                       NaN 2021-01-01 01:00:00  \n",
       "2                       NaN 2021-01-01 02:00:00  \n",
       "3                       NaN 2021-01-01 03:00:00  \n",
       "4                       NaN 2021-01-01 04:00:00  "
      ]
     },
     "execution_count": 24,
     "metadata": {},
     "output_type": "execute_result"
    }
   ],
   "source": [
    "start_times = combined_df['MTU (CET/CEST)'].str.split(' - ').str[0]\n",
    "start_times_clean = start_times.str.replace(r' \\(CET\\)| \\(CEST\\)', '', regex=True)\n",
    "combined_df['Start DateTime'] = pd.to_datetime(start_times_clean, dayfirst=True)\n",
    "combined_df.head()\n"
   ]
  },
  {
   "cell_type": "markdown",
   "metadata": {},
   "source": [
    " # Step 4: Filter Data by Time Interval\n",
    "\n",
    " **Goal:** Keep only rows that fall within the desired datetime range."
   ]
  },
  {
   "cell_type": "code",
   "execution_count": 26,
   "metadata": {},
   "outputs": [
    {
     "name": "stdout",
     "output_type": "stream",
     "text": [
      "3359   2021-05-21 00:00:00\n",
      "3360   2021-05-21 01:00:00\n",
      "3361   2021-05-21 02:00:00\n",
      "3362   2021-05-21 03:00:00\n",
      "3363   2021-05-21 04:00:00\n",
      "Name: Start DateTime, dtype: datetime64[ns]\n",
      "114928   2025-04-30 19:00:00\n",
      "114929   2025-04-30 20:00:00\n",
      "114930   2025-04-30 21:00:00\n",
      "114931   2025-04-30 22:00:00\n",
      "114932   2025-04-30 23:00:00\n",
      "Name: Start DateTime, dtype: datetime64[ns]\n"
     ]
    }
   ],
   "source": [
    "start_date = pd.to_datetime('2021-05-21')  # Lower bound for filtering\n",
    "end_date = pd.to_datetime('2025-05-01')    # Upper bound (exclusive)\n",
    "filtered_df = combined_df[(combined_df['Start DateTime'] >= start_date) & (combined_df['Start DateTime'] < end_date)]\n",
    "print(filtered_df['Start DateTime'].head(5))\n",
    "print(filtered_df['Start DateTime'].tail(5))\n"
   ]
  },
  {
   "cell_type": "markdown",
   "metadata": {},
   "source": [
    " # Step 5: Detect Irregular Time Intervals\n",
    "\n",
    "Identify gaps or anomalies in the hourly data sequence grouped by Area and Sequence.  These datetimes are like this because of the Daylight Saving Time (DST)."
   ]
  },
  {
   "cell_type": "code",
   "execution_count": 28,
   "metadata": {},
   "outputs": [
    {
     "name": "stdout",
     "output_type": "stream",
     "text": [
      "         Area          Sequence      Start DateTime        TimeDiff\n",
      "3914   BZN|ES  Without sequence 2021-10-31 02:00:00 0 days 01:00:00\n",
      "3915   BZN|ES  Without sequence 2021-10-31 02:00:00 0 days 00:00:00\n",
      "7442   BZN|ES  Without sequence 2022-03-27 01:00:00 0 days 01:00:00\n",
      "7443   BZN|ES  Without sequence 2022-03-27 03:00:00 0 days 02:00:00\n",
      "12650  BZN|ES  Without sequence 2022-10-30 02:00:00 0 days 01:00:00\n",
      "12651  BZN|ES  Without sequence 2022-10-30 02:00:00 0 days 00:00:00\n",
      "16178  BZN|ES  Without sequence 2023-03-26 01:00:00 0 days 01:00:00\n",
      "16179  BZN|ES  Without sequence 2023-03-26 03:00:00 0 days 02:00:00\n",
      "21386  BZN|ES  Without sequence 2023-10-29 02:00:00 0 days 01:00:00\n",
      "21387  BZN|ES  Without sequence 2023-10-29 02:00:00 0 days 00:00:00\n"
     ]
    }
   ],
   "source": [
    "filtered_df = filtered_df.sort_values(['Area', 'Sequence', 'Start DateTime']).reset_index(drop=True)\n",
    "filtered_df['TimeDiff'] = filtered_df.groupby(['Area', 'Sequence'])['Start DateTime'].diff()\n",
    "filtered_df['NonHourly'] = (filtered_df['TimeDiff'] != pd.Timedelta(hours=1)) & (~filtered_df['TimeDiff'].isna())\n",
    "\n",
    "problem_indices = filtered_df.index[filtered_df['NonHourly']]\n",
    "context_indices = problem_indices.union(problem_indices - 1)\n",
    "\n",
    "irregular_context = filtered_df.loc[context_indices].sort_values(['Area', 'Sequence', 'Start DateTime'])\n",
    "print(irregular_context[['Area', 'Sequence', 'Start DateTime', 'TimeDiff']].head(10))\n"
   ]
  },
  {
   "cell_type": "markdown",
   "metadata": {},
   "source": [
    " # Step 6: Export Filtered Data\n",
    "\n",
    "Save the cleaned and validated dataset to a Parquet file for further use."
   ]
  },
  {
   "cell_type": "code",
   "execution_count": 29,
   "metadata": {},
   "outputs": [],
   "source": [
    "filtered_df.to_parquet('parquet_files/filtered_data.parquet', index=False)\n"
   ]
  }
 ],
 "metadata": {
  "language_info": {
   "codemirror_mode": {
    "name": "ipython",
    "version": 3
   },
   "file_extension": ".py",
   "mimetype": "text/x-python",
   "name": "python",
   "nbconvert_exporter": "python",
   "pygments_lexer": "ipython3",
   "version": 3
  }
 },
 "nbformat": 4,
 "nbformat_minor": 2
}
