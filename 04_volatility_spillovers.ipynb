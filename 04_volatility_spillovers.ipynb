{
 "cells": [
  {
   "cell_type": "markdown",
   "metadata": {},
   "source": [
    " # 4.2 Volatility Spillover Measures Using Generalized Variance Decomposition (GVD)\n",
    "\n",
    "\n",
    "\n",
    " Diebold and Yilmaz (2009, 2012) propose measuring volatility spillovers using the forecast error variance decomposition from a vector autoregressive (VAR) model.\n",
    "\n",
    "\n",
    "\n",
    " The VAR($p$) model is specified as:\n",
    "\n",
    "\n",
    "\n",
    " $$\n",
    "\n",
    " Y_t = \\sum_{i=1}^p \\Phi_i Y_{t-i} + \\varepsilon_t,\n",
    "\n",
    " $$\n",
    "\n",
    "\n",
    "\n",
    " where $Y_t$ is an $N \\times 1$ vector of realized variances, $\\Phi_i$ are coefficient matrices, and $\\varepsilon_t$ is a white noise error vector with covariance matrix $\\Sigma$.\n",
    "\n",
    "\n",
    "\n",
    " The moving average representation is:\n",
    "\n",
    "\n",
    "\n",
    " $$\n",
    "\n",
    " Y_t = \\sum_{i=0}^\\infty A_i \\varepsilon_{t-i}\n",
    "\n",
    " $$\n",
    "\n",
    "\n",
    "\n",
    " where matrices $A_i$ satisfy the recursion $A_i = \\sum_{j=1}^p \\Phi_j A_{i-j}$, with $A_0 = I_N$.\n",
    "\n",
    "\n",
    "\n",
    "The forecast error variance decomposition quantifies the fraction of the $H$-step-ahead forecast error variance of variable $i$ attributable to shocks in variable $j$. The **Generalized Variance Decomposition (GVD)** method by Koop et al. (1996) and Pesaran and Shin (1998) is used because it is invariant to variable ordering.\n",
    "\n",
    "\n",
    "\n",
    " The GVD element is:\n",
    "\n",
    "\n",
    "\n",
    " $$\n",
    "\n",
    "\\theta^{g}_{ij}(H) = \\frac{\\sigma_{jj}^{-1} \\sum_{h=0}^{H-1} \\left( e_i' A_h \\Sigma e_j \\right)^2 }{\n",
    "\n",
    "\\sum_{h=0}^{H-1} \\left( e_i' A_h \\Sigma A_h' e_i \\right) }\n",
    "\n",
    "$$\n",
    "\n",
    "\n",
    "\n",
    " where $\\sigma_{jj}$ is the variance of the error term for equation $j$, and $e_i$ is a selection vector with 1 in position $i$, zero elsewhere.\n",
    "\n",
    "\n",
    "\n",
    " Normalizing rows so their sum equals one gives:\n",
    "\n",
    "\n",
    "\n",
    "$$\n",
    "\n",
    "\\tilde{\\theta}^{g}_{ij}(H) = \\frac{\\theta^{g}_{ij}(H)}{\\sum_{j=1}^N \\theta^{g}_{ij}(H)}.\n",
    "\n",
    "$$\n",
    "\n",
    "\n",
    "\n",
    " The **Total Spillover Index (TSI)** measures the contribution of spillovers to total forecast error variance:\n",
    "\n",
    "\n",
    "\n",
    "$$\n",
    "\n",
    "S^{g}(H) = \\frac{\\sum_{i=1}^N \\sum_{j=1, j\\neq i}^N \\tilde{\\theta}^{g}_{ij}(H)}{N} \\times 100.\n",
    "\n",
    "$$\n",
    "\n",
    "\n",
    "\n",
    "Directional spillovers transmitted from market $i$ to others and received by market $i$ from others can also be computed from normalized GVD elements."
   ]
  },
  {
   "cell_type": "markdown",
   "metadata": {},
   "source": [
    " ## Step 1: Load PIT-transformed realized variances and prepare VAR input"
   ]
  },
  {
   "cell_type": "code",
   "execution_count": 2,
   "metadata": {},
   "outputs": [
    {
     "data": {
      "text/html": [
       "<div>\n",
       "<style scoped>\n",
       "    .dataframe tbody tr th:only-of-type {\n",
       "        vertical-align: middle;\n",
       "    }\n",
       "\n",
       "    .dataframe tbody tr th {\n",
       "        vertical-align: top;\n",
       "    }\n",
       "\n",
       "    .dataframe thead th {\n",
       "        text-align: right;\n",
       "    }\n",
       "</style>\n",
       "<table border=\"1\" class=\"dataframe\">\n",
       "  <thead>\n",
       "    <tr style=\"text-align: right;\">\n",
       "      <th>Area</th>\n",
       "      <th>BZN|ES</th>\n",
       "      <th>BZN|FR</th>\n",
       "      <th>BZN|PT</th>\n",
       "    </tr>\n",
       "  </thead>\n",
       "  <tbody>\n",
       "    <tr>\n",
       "      <th>2021-05-21</th>\n",
       "      <td>-1.228412</td>\n",
       "      <td>-0.469873</td>\n",
       "      <td>-1.221048</td>\n",
       "    </tr>\n",
       "    <tr>\n",
       "      <th>2021-05-22</th>\n",
       "      <td>-1.374370</td>\n",
       "      <td>-0.681604</td>\n",
       "      <td>-1.352340</td>\n",
       "    </tr>\n",
       "    <tr>\n",
       "      <th>2021-05-23</th>\n",
       "      <td>-1.322559</td>\n",
       "      <td>-0.425643</td>\n",
       "      <td>-1.289900</td>\n",
       "    </tr>\n",
       "    <tr>\n",
       "      <th>2021-05-24</th>\n",
       "      <td>-1.239586</td>\n",
       "      <td>-0.541040</td>\n",
       "      <td>-1.210123</td>\n",
       "    </tr>\n",
       "    <tr>\n",
       "      <th>2021-05-25</th>\n",
       "      <td>-1.747794</td>\n",
       "      <td>-1.202919</td>\n",
       "      <td>-1.747794</td>\n",
       "    </tr>\n",
       "  </tbody>\n",
       "</table>\n",
       "</div>"
      ],
      "text/plain": [
       "Area          BZN|ES    BZN|FR    BZN|PT\n",
       "2021-05-21 -1.228412 -0.469873 -1.221048\n",
       "2021-05-22 -1.374370 -0.681604 -1.352340\n",
       "2021-05-23 -1.322559 -0.425643 -1.289900\n",
       "2021-05-24 -1.239586 -0.541040 -1.210123\n",
       "2021-05-25 -1.747794 -1.202919 -1.747794"
      ]
     },
     "execution_count": 2,
     "metadata": {},
     "output_type": "execute_result"
    }
   ],
   "source": [
    "# Import libraries\n",
    "import pandas as pd\n",
    "import numpy as np\n",
    "from statsmodels.tsa.api import VAR\n",
    "\n",
    "pit_vars = pd.read_parquet(\"parquet_files/pit_transformed_variances.parquet\")\n",
    "pit_vars.index = pd.to_datetime(pit_vars.index)\n",
    "\n",
    "# Inspect the data\n",
    "pit_vars.head()\n"
   ]
  },
  {
   "cell_type": "markdown",
   "metadata": {},
   "source": [
    " ## Step 2: Fit VAR($p$) model on realized variances\n",
    "\n",
    "\n",
    "\n",
    " Select lag order $p$ (e.g., 1 to 5) based on criteria or domain knowledge.\n",
    "\n",
    " Here we use $p=1$ for simplicity."
   ]
  },
  {
   "cell_type": "code",
   "execution_count": 3,
   "metadata": {},
   "outputs": [
    {
     "name": "stdout",
     "output_type": "stream",
     "text": [
      "  Summary of Regression Results   \n",
      "==================================\n",
      "Model:                         VAR\n",
      "Method:                        OLS\n",
      "Date:           Wed, 28, May, 2025\n",
      "Time:                     18:26:13\n",
      "--------------------------------------------------------------------\n",
      "No. of Equations:         3.00000    BIC:                   -4.74525\n",
      "Nobs:                     1440.00    HQIC:                  -4.77278\n",
      "Log likelihood:          -2669.60    FPE:                 0.00831926\n",
      "AIC:                     -4.78918    Det(Omega_mle):      0.00825031\n",
      "--------------------------------------------------------------------\n",
      "Results for equation BZN|ES\n",
      "============================================================================\n",
      "               coefficient       std. error           t-stat            prob\n",
      "----------------------------------------------------------------------------\n",
      "const             0.001765         0.019242            0.092           0.927\n",
      "L1.BZN|ES         0.223558         0.100056            2.234           0.025\n",
      "L1.BZN|FR         0.093474         0.022686            4.120           0.000\n",
      "L1.BZN|PT         0.411575         0.099991            4.116           0.000\n",
      "============================================================================\n",
      "\n",
      "Results for equation BZN|FR\n",
      "============================================================================\n",
      "               coefficient       std. error           t-stat            prob\n",
      "----------------------------------------------------------------------------\n",
      "const             0.001154         0.016837            0.069           0.945\n",
      "L1.BZN|ES        -0.156362         0.087551           -1.786           0.074\n",
      "L1.BZN|FR         0.725106         0.019851           36.528           0.000\n",
      "L1.BZN|PT         0.237317         0.087494            2.712           0.007\n",
      "============================================================================\n",
      "\n",
      "Results for equation BZN|PT\n",
      "============================================================================\n",
      "               coefficient       std. error           t-stat            prob\n",
      "----------------------------------------------------------------------------\n",
      "const             0.001645         0.019029            0.086           0.931\n",
      "L1.BZN|ES         0.187713         0.098951            1.897           0.058\n",
      "L1.BZN|FR         0.101032         0.022436            4.503           0.000\n",
      "L1.BZN|PT         0.450849         0.098887            4.559           0.000\n",
      "============================================================================\n",
      "\n",
      "Correlation matrix of residuals\n",
      "            BZN|ES    BZN|FR    BZN|PT\n",
      "BZN|ES    1.000000  0.354486  0.957499\n",
      "BZN|FR    0.354486  1.000000  0.336811\n",
      "BZN|PT    0.957499  0.336811  1.000000\n",
      "\n",
      "\n",
      "\n"
     ]
    },
    {
     "name": "stderr",
     "output_type": "stream",
     "text": [
      "C:\\Users\\frolo\\AppData\\Local\\Packages\\PythonSoftwareFoundation.Python.3.10_qbz5n2kfra8p0\\LocalCache\\local-packages\\Python310\\site-packages\\statsmodels\\tsa\\base\\tsa_model.py:471: ValueWarning: No frequency information was provided, so inferred frequency D will be used.\n",
      "  self._init_dates(dates, freq)\n"
     ]
    }
   ],
   "source": [
    "p = 1\n",
    "model = VAR(pit_vars)\n",
    "results = model.fit(p)\n",
    "\n",
    "print(results.summary())\n"
   ]
  },
  {
   "cell_type": "markdown",
   "metadata": {},
   "source": [
    " ## Step 3: Compute moving average coefficient matrices $A_h$\n",
    "\n",
    "\n",
    "\n",
    " Calculate matrices $A_h$ for $h=0,\\dots,H-1$, using the recursion:\n",
    "\n",
    "\n",
    "\n",
    "$$\n",
    "\n",
    "A_0 = I_N, \\quad A_h = \\sum_{j=1}^p \\Phi_j A_{h-j} \\quad \\text{for } h>0,\n",
    "\n",
    "$$\n",
    "\n",
    "\n",
    "\n",
    " where $\\Phi_j$ are the VAR coefficient matrices."
   ]
  },
  {
   "cell_type": "code",
   "execution_count": 4,
   "metadata": {},
   "outputs": [],
   "source": [
    "H = 10  # forecast horizon\n",
    "\n",
    "N = pit_vars.shape[1]\n",
    "I = np.eye(N)\n",
    "A = [I]\n",
    "\n",
    "Phi = results.coefs  # shape (p, N, N)\n",
    "\n",
    "for h in range(1, H):\n",
    "    A_h = np.zeros((N,N))\n",
    "    for j in range(1, min(h,p)+1):\n",
    "        A_h += Phi[j-1] @ A[h-j]\n",
    "    A.append(A_h)\n"
   ]
  },
  {
   "cell_type": "markdown",
   "metadata": {},
   "source": [
    " ## Step 4: Compute Generalized Variance Decomposition matrix $\\Theta^g(H)$"
   ]
  },
  {
   "cell_type": "code",
   "execution_count": 5,
   "metadata": {},
   "outputs": [],
   "source": [
    "Sigma = results.sigma_u  # covariance matrix of residuals\n",
    "sigma_diag_inv = np.diag(1 / np.diag(Sigma))\n",
    "\n",
    "theta_g = np.zeros((N,N))\n",
    "\n",
    "for i in range(N):\n",
    "    e_i = np.zeros(N)\n",
    "    e_i[i] = 1\n",
    "    denom = 0\n",
    "    for h in range(H):\n",
    "        Ah = A[h]\n",
    "        denom += e_i @ Ah @ Sigma @ Ah.T @ e_i\n",
    "    for j in range(N):\n",
    "        e_j = np.zeros(N)\n",
    "        e_j[j] = 1\n",
    "        numer = 0\n",
    "        for h in range(H):\n",
    "            Ah = A[h]\n",
    "            val = e_i @ Ah @ Sigma @ e_j\n",
    "            numer += val ** 2\n",
    "        theta_g[i,j] = sigma_diag_inv[j,j] * numer / denom\n"
   ]
  },
  {
   "cell_type": "markdown",
   "metadata": {},
   "source": [
    " ## Step 5: Normalize the variance decomposition matrix row-wise"
   ]
  },
  {
   "cell_type": "code",
   "execution_count": 6,
   "metadata": {},
   "outputs": [],
   "source": [
    "theta_g_normalized = theta_g / theta_g.sum(axis=1, keepdims=True)\n"
   ]
  },
  {
   "cell_type": "markdown",
   "metadata": {},
   "source": [
    " ## Step 6: Compute Total Spillover Index (TSI)"
   ]
  },
  {
   "cell_type": "code",
   "execution_count": 7,
   "metadata": {},
   "outputs": [
    {
     "name": "stdout",
     "output_type": "stream",
     "text": [
      "Total Spillover Index (TSI) at horizon 10: 46.29%\n"
     ]
    }
   ],
   "source": [
    "TSI = 100 * (np.sum(theta_g_normalized) - np.trace(theta_g_normalized)) / N\n",
    "print(f\"Total Spillover Index (TSI) at horizon {H}: {TSI:.2f}%\")\n"
   ]
  },
  {
   "cell_type": "markdown",
   "metadata": {},
   "source": [
    " ## Step 7: Compute directional spillovers transmitted and received by each market\n",
    "\n",
    "\n",
    "\n",
    " - Spillovers transmitted from market $i$:\n",
    "\n",
    "\n",
    "\n",
    "$$\n",
    "\n",
    "S^{g}_{.i}(H) = \\frac{1}{N} \\sum_{j=1, j \\neq i}^N \\tilde{\\theta}^{g}_{ji}(H) \\times 100\n",
    "\n",
    "$$\n",
    "\n",
    "\n",
    "\n",
    "- Spillovers received by market $i$:\n",
    "\n",
    "\n",
    "\n",
    "$$\n",
    "\n",
    "S^{g}_{i.}(H) = \\frac{1}{N} \\sum_{j=1, j \\neq i}^N \\tilde{\\theta}^{g}_{ij}(H) \\times 100\n",
    "\n",
    "$$"
   ]
  },
  {
   "cell_type": "code",
   "execution_count": 8,
   "metadata": {},
   "outputs": [
    {
     "name": "stdout",
     "output_type": "stream",
     "text": [
      "        Transmitted   Received\n",
      "Area                          \n",
      "BZN|ES    18.093171  18.093171\n",
      "BZN|FR    10.282341  10.282341\n",
      "BZN|PT    17.918171  17.918171\n"
     ]
    }
   ],
   "source": [
    "spillovers_transmitted = 100 / N * (theta_g_normalized.T.sum(axis=0) - np.diag(theta_g_normalized))\n",
    "spillovers_received = 100 / N * (theta_g_normalized.sum(axis=1) - np.diag(theta_g_normalized))\n",
    "\n",
    "spillovers_df = pd.DataFrame({\n",
    "    \"Transmitted\": spillovers_transmitted,\n",
    "    \"Received\": spillovers_received\n",
    "}, index=pit_vars.columns)\n",
    "\n",
    "print(spillovers_df)\n"
   ]
  },
  {
   "cell_type": "markdown",
   "metadata": {},
   "source": [
    " ## Save spillover measures"
   ]
  },
  {
   "cell_type": "code",
   "execution_count": 9,
   "metadata": {},
   "outputs": [],
   "source": [
    "spillovers_df.to_parquet(\"parquet_files/volatility_spillovers.parquet\")\n"
   ]
  }
 ],
 "metadata": {
  "kernelspec": {
   "display_name": "Python 3",
   "language": "python",
   "name": "python3"
  },
  "language_info": {
   "codemirror_mode": {
    "name": "ipython",
    "version": 3
   },
   "file_extension": ".py",
   "mimetype": "text/x-python",
   "name": "python",
   "nbconvert_exporter": "python",
   "pygments_lexer": "ipython3",
   "version": "3.10.11"
  }
 },
 "nbformat": 4,
 "nbformat_minor": 2
}
